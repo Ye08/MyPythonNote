{
 "cells": [
  {
   "cell_type": "code",
   "execution_count": 6,
   "metadata": {
    "collapsed": true
   },
   "outputs": [],
   "source": [
    "import urllib.request\n",
    "import re\n",
    "import os"
   ]
  },
  {
   "cell_type": "code",
   "execution_count": 7,
   "metadata": {
    "collapsed": false
   },
   "outputs": [],
   "source": [
    "comic_url = \"https://xkcd.com/299/\"\n",
    "\n",
    "with urllib.request.urlopen(comic_url) as url:\n",
    "    str = url.read()"
   ]
  },
  {
   "cell_type": "code",
   "execution_count": 8,
   "metadata": {
    "collapsed": false
   },
   "outputs": [],
   "source": [
    "#print(str) #顯示網業原始檔\n",
    "\n",
    "pages =  urllib.parse.quote(str)\n"
   ]
  },
  {
   "cell_type": "code",
   "execution_count": 9,
   "metadata": {
    "collapsed": false,
    "scrolled": true
   },
   "outputs": [
    {
     "name": "stdout",
     "output_type": "stream",
     "text": [
      "url:  http://imgs.xkcd.com/static/terrible_small_logo.png\n",
      "url:  http://imgs.xkcd.com/comics/aeris_dies.png\n",
      "url:  http://imgs.xkcd.com/comics/aeris_dies.png\n"
     ]
    }
   ],
   "source": [
    "f=open('list','w')\n",
    "header = \"http:\"\n",
    "url_lst = []\n",
    "for m in re.finditer('(/[\\w./]+.png)', pages):\n",
    "    url = header+m.group(1)\n",
    "    url_lst.append(m.group(1))\n",
    "    print(\"url: \", url)\n",
    "    f.write(url+'\\n')\n",
    "f.close()"
   ]
  },
  {
   "cell_type": "code",
   "execution_count": 18,
   "metadata": {
    "collapsed": false
   },
   "outputs": [
    {
     "name": "stdout",
     "output_type": "stream",
     "text": [
      "//imgs.xkcd.com/static/terrible_small_logo.png\n",
      "//imgs.xkcd.com/comics/aeris_dies.png\n",
      "//imgs.xkcd.com/comics/aeris_dies.png\n"
     ]
    }
   ],
   "source": [
    "for url in url_lst:\n",
    "    print(url)\n",
    "    match = re.findall('([\\w.]+.png)', url)\n",
    "    filename = match[0]\n",
    "    urllib.request.urlretrieve(header+url,filename)\n",
    "    "
   ]
  },
  {
   "cell_type": "markdown",
   "metadata": {},
   "source": [
    "http://stackoverflow.com/questions/7243750/download-file-from-web-in-python-3\n"
   ]
  },
  {
   "cell_type": "code",
   "execution_count": 11,
   "metadata": {
    "collapsed": true
   },
   "outputs": [],
   "source": [
    "#import shutil\n",
    "#with urllib.request.urlopen(url) as response, open(file_name, 'wb') as out_file:\n",
    "#    data = response.read() # a `bytes` object\n",
    "#    out_file.write(data)"
   ]
  }
 ],
 "metadata": {
  "kernelspec": {
   "display_name": "Python [default]",
   "language": "python",
   "name": "python3"
  },
  "language_info": {
   "codemirror_mode": {
    "name": "ipython",
    "version": 3
   },
   "file_extension": ".py",
   "mimetype": "text/x-python",
   "name": "python",
   "nbconvert_exporter": "python",
   "pygments_lexer": "ipython3",
   "version": "3.5.2"
  }
 },
 "nbformat": 4,
 "nbformat_minor": 1
}
