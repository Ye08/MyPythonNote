{
 "metadata": {
  "name": "",
  "signature": "sha256:0f6e4a2644341449cd7067ade42532b3718bc2ea7bfef19c30290e3ae77fc7e5"
 },
 "nbformat": 3,
 "nbformat_minor": 0,
 "worksheets": [
  {
   "cells": [
    {
     "cell_type": "markdown",
     "metadata": {},
     "source": [
      "\u524d\u8a00\uff1a\u57fa\u672c\u4e0a\u9019\u662fcodeacademy\u7684\u5b78\u7fd2\u7b46\u8a18\uff0c\n"
     ]
    },
    {
     "cell_type": "heading",
     "level": 2,
     "metadata": {},
     "source": [
      "Python Syntax"
     ]
    },
    {
     "cell_type": "markdown",
     "metadata": {},
     "source": [
      "print \u6307\u4ee4\uff1aprint \u5b57\u4e32; print \u8b8a\u6578; print \u5b57\u4e32, \u8b8a\u6578, etc"
     ]
    },
    {
     "cell_type": "code",
     "collapsed": false,
     "input": [
      "print \"Welcome to Python!\""
     ],
     "language": "python",
     "metadata": {},
     "outputs": [
      {
       "output_type": "stream",
       "stream": "stdout",
       "text": [
        "Welcome to Python!\n"
       ]
      }
     ],
     "prompt_number": 1
    },
    {
     "cell_type": "markdown",
     "metadata": {},
     "source": [
      "\u8b8a\u6578\u8ce6\u503c\uff1a\u8b8a\u6578 = \u503c\n",
      "\n",
      "\u8b8a\u6578\u578b\u614b\uff1a\u6574\u6578\uff08Integer), \u6d6e\u9ede\u6578(float), boolean(True/False)\n",
      "\n",
      "\u7a0b\u5f0f\u4e2d\u8b8a\u6578\u53ef\u4ee5\u96a8\u6642\u66f4\u6539\u5176\u503c, \u5728Python\u4e2d, \u751a\u81f3\u53ef\u4ee5\u66f4\u6539\u8b8a\u6578\u578b\u614b"
     ]
    },
    {
     "cell_type": "code",
     "collapsed": false,
     "input": [
      "my_int = 10\n",
      "my_float = 0.123\n",
      "my_bool = True\n",
      "print \"my_int =\", my_int, \"my_float = \",my_float,  \"my_bool =\",my_bool\n",
      "my_var = 10\n",
      "print \"my_var = \", my_var\n",
      "my_var = False\n",
      "print \"my_var = \", my_var"
     ],
     "language": "python",
     "metadata": {},
     "outputs": [
      {
       "output_type": "stream",
       "stream": "stdout",
       "text": [
        "my_int = 10 my_float =  0.123 my_bool = True\n",
        "my_var =  10\n",
        "my_var =  False\n"
       ]
      }
     ],
     "prompt_number": 2
    },
    {
     "cell_type": "markdown",
     "metadata": {},
     "source": [
      "\u7e2e\u6392\uff1aPython\u4e2d\u662f\u4ee5\u7e2e\u6392\u4f86\u5340\u5206\u5c64\u7d1a, \u4f8b\u5982\u51fd\u6578\u5b9a\u7fa9, \u8ff4\u5708\u7b49\u7b49\n",
      "\n",
      "\u5e95\u4e0b\u662f\u4e00\u500b\u7e2e\u6392\u7684\u4f8b\u5b50, def \u662f\u5728\u5b9a\u7fa9\u4e00\u500b\u51fd\u6578"
     ]
    },
    {
     "cell_type": "code",
     "collapsed": false,
     "input": [
      "def spam():\n",
      "    eggs = 12\n",
      "    return eggs\n",
      "    \n",
      "print spam()"
     ],
     "language": "python",
     "metadata": {},
     "outputs": [
      {
       "output_type": "stream",
       "stream": "stdout",
       "text": [
        "12\n"
       ]
      }
     ],
     "prompt_number": 3
    },
    {
     "cell_type": "markdown",
     "metadata": {},
     "source": [
      "\u8a3b\u89e3\uff1a\u4e00\u822c\u55ae\u884c\u8a3b\u89e3\u6216\u662f\u5728\u884c\u5c3e\u8a3b\u89e3\u53ef\u4ee5\u4f7f\u7528#, \u82e5\u8981\u591a\u884c\u8a3b\u89e3\u5247\u4ee5\"\"\"\u958b\u982d,\"\"\"\u7d50\u5c3e"
     ]
    },
    {
     "cell_type": "markdown",
     "metadata": {},
     "source": [
      "\u6578\u5b78\uff1a\u52a0\u6e1b\u4e58\u9664\u56db\u5247\u904b\u7b97\u7b26\u865f\u662f\u4e00\u822c\u5e38\u7528\u7b26\u865f, \u6b21\u65b9\u5247\u6539\u70ba\\** \u800c\u4e0d\u662f^, \u540c\u9918\u5247\u662f %"
     ]
    },
    {
     "cell_type": "code",
     "collapsed": false,
     "input": [
      "print \"1+2+3+4*5 = \", 1+2+3+4*5 \n",
      "print \"2^3 = \", 2**3\n",
      "print \"3 %2 =\", 3%2"
     ],
     "language": "python",
     "metadata": {},
     "outputs": [
      {
       "output_type": "stream",
       "stream": "stdout",
       "text": [
        "1+2+3+4*5 =  26\n",
        "2^3 =  8\n",
        "3 %2 = 1\n"
       ]
      }
     ],
     "prompt_number": 4
    },
    {
     "cell_type": "heading",
     "level": 2,
     "metadata": {},
     "source": [
      "STRINGS AND CONSOLE OUTPUT"
     ]
    },
    {
     "cell_type": "markdown",
     "metadata": {},
     "source": [
      "\u5b57\u4e32\u7684\u5b9a\u7fa9\u65b9\u5f0f\u662f\u4ee5\u96d9\u5f15\u865f\u6216\u662f\u55ae\u5f15\u865f\u593e\u8d77\u4f86"
     ]
    },
    {
     "cell_type": "code",
     "collapsed": false,
     "input": [
      "caesar = \"Graham\"\n",
      "praline = 'John'\n",
      "print caesar\n",
      "print praline"
     ],
     "language": "python",
     "metadata": {},
     "outputs": [
      {
       "output_type": "stream",
       "stream": "stdout",
       "text": [
        "Graham\n",
        "John\n"
       ]
      }
     ],
     "prompt_number": 5
    },
    {
     "cell_type": "markdown",
     "metadata": {},
     "source": [
      "Escaping characters\uff1a\u6709\u4e9b\u5b57\u5143\u6709\u7279\u6b8a\u7528\u9014, \u6240\u4ee5\u51fa\u73fe\u5728\u5b57\u4e32\u4e2d\u6642\u5fc5\u9808\u52a0\u5165\u53cd\u659c\u7dda\\"
     ]
    },
    {
     "cell_type": "code",
     "collapsed": false,
     "input": [
      "print 'This isn\\'t flying, this is falling with style!'\n",
      "print \"\\\" is another special character.\""
     ],
     "language": "python",
     "metadata": {},
     "outputs": [
      {
       "output_type": "stream",
       "stream": "stdout",
       "text": [
        "This isn't flying, this is falling with style!\n",
        "\" is another special character.\n"
       ]
      }
     ],
     "prompt_number": 6
    },
    {
     "cell_type": "markdown",
     "metadata": {},
     "source": [
      "\u5b57\u4e32\u53ef\u4ee5\u8996\u70ba\u4e00\u500barray, \u6240\u4ee5\u53ef\u4ee5\u4f7f\u7528index\u6311\u51fa\u5b57\u4e32\u4e2d\u7279\u5b9a\u5e7e\u500b\u5b57\u5143. \u6ce8\u610findex\u75310\u958b\u59cb"
     ]
    },
    {
     "cell_type": "code",
     "collapsed": false,
     "input": [
      "my_str = \"STRINGS\"\n",
      "print \"The whole string is \",my_str,\" and the first character is \", my_str[0], \". The last characters are \",my_str[-3:]"
     ],
     "language": "python",
     "metadata": {},
     "outputs": [
      {
       "output_type": "stream",
       "stream": "stdout",
       "text": [
        "The whole string is  STRINGS  and the first character is  S . The last characters are  NGS\n"
       ]
      }
     ],
     "prompt_number": 12
    },
    {
     "cell_type": "raw",
     "metadata": {},
     "source": [
      "\u8207\u5b57\u4e32\u76f8\u95dc\u7684\u5e7e\u500b\u51fd\u6578\uff1a\n",
      "\n",
      "len(mystr)\uff1a\u50b3\u56de\u5b57\u4e32mystr\u7684\u9577\u5ea6\n",
      "\n",
      "mystr.lower()\uff1a\u5c07\u5b57\u4e32mystr\u90fd\u6539\u70ba\u5c0f\u5beb\n",
      "\n",
      "mystr.upper()\uff1a\u5c07\u5b57\u4e32mystr\u90fd\u6539\u70ba\u5927\u5beb\n",
      "\n",
      "str(mynum)\uff1a\u5c07mynum\uff08\u6578\u503c\u6216\u662f\u6578\u503c\u8b8a\u6578\uff09\u8f49\u70ba\u5b57\u4e32"
     ]
    },
    {
     "cell_type": "code",
     "collapsed": false,
     "input": [
      "my_str = \"Mathematics\"\n",
      "print \"The length of my_str is\", len(my_str)\n",
      "print \"The effect of upper on my_str is\", my_str.upper()\n",
      "print \"The effect of lower on my_str is\", my_str.lower()\n",
      "print \"The third character of the 12345 is\", str(12345)[2]"
     ],
     "language": "python",
     "metadata": {},
     "outputs": [
      {
       "output_type": "stream",
       "stream": "stdout",
       "text": [
        "The length of my_str is 11\n",
        "The effect of upper on my_str is MATHEMATICS\n",
        "The effect of lower on my_str is mathematics\n",
        "The third character of the 12345 is 3\n"
       ]
      }
     ],
     "prompt_number": 14
    },
    {
     "cell_type": "markdown",
     "metadata": {},
     "source": [
      "\u5b57\u4e32\u53ef\u4ee5\u7528+\u9019\u500b\u904b\u7b97\u9023\u63a5\u8d77\u4f86, \u6ce8\u610f\u9023\u8d77\u4f86\u5f8c\u7684\u5b57\u4e32\u5728\u539f\u5148\u7684\u5b57\u4e32\u9593\u6c92\u6709\u7a7a\u767d"
     ]
    },
    {
     "cell_type": "code",
     "collapsed": false,
     "input": [
      "print \"Spam \"+\"and \"+\"eggs\"\n",
      "str1 = \"Spam\"\n",
      "str2 = \"and\"\n",
      "str3 = \" eggs\"\n",
      "print str1+str2+str3"
     ],
     "language": "python",
     "metadata": {},
     "outputs": [
      {
       "output_type": "stream",
       "stream": "stdout",
       "text": [
        "Spam and eggs\n",
        "Spamand eggs\n"
       ]
      }
     ],
     "prompt_number": 16
    },
    {
     "cell_type": "heading",
     "level": 4,
     "metadata": {},
     "source": [
      "\u683c\u5f0f\u5316\u5b57\u4e32/\u8f38\u51fa"
     ]
    },
    {
     "cell_type": "markdown",
     "metadata": {},
     "source": [
      "\u6211\u5011\u7d93\u5e38\u6703\u78b0\u5230\u540c\u985e\u578b\u7684\u53e5\u5b50\uff08\u66f4\u63db\u90e8\u4efd\u540d\u8a5e\uff09\u4e00\u518d\u51fa\u73fe\u7684\u60c5\u5f62, \u53ef\u4ee5\u5728\u5b57\u4e32\u4e2d\u4ee5%s \u8868\u793a\u4e4b\u5f8c\u8981\u53d6\u4ee3\u7684\u4f4d\u7f6e, \u5b57\u4e32\u5f8c%\u5f8c\u7684\u5167\u5bb9\u8868\u793a\u8981\u53d6\u4ee3%s\u7684\u5167\u5bb9"
     ]
    },
    {
     "cell_type": "code",
     "collapsed": false,
     "input": [
      "string_1 = \"Camelot\"\n",
      "string_2 = \"place\"\n",
      "my_str = \"Let's not go to %s. 'Tis a silly %s.\"\n",
      "print \"Let's not go to %s. 'Tis a silly %s.\" % (string_1, string_2)\n",
      "print my_str % (string_1, string_2)"
     ],
     "language": "python",
     "metadata": {},
     "outputs": [
      {
       "output_type": "stream",
       "stream": "stdout",
       "text": [
        "Let's not go to Camelot. 'Tis a silly place.\n",
        "Let's not go to Camelot. 'Tis a silly place.\n"
       ]
      }
     ],
     "prompt_number": 18
    },
    {
     "cell_type": "heading",
     "level": 4,
     "metadata": {},
     "source": [
      "\u8f38\u5165raw_input"
     ]
    },
    {
     "cell_type": "markdown",
     "metadata": {},
     "source": [
      "my_str=raw_input(\"Display Message\") \u986f\u793a\"Display Message\"\u5f8c, \u8981\u6c42\u8f38\u5165\u8cc7\u8a0a, \u5c07\u7d50\u679c\u8ce6\u4e88my_str. \u6ce8\u610f\u4e2d\u6587\u8f38\u5165\u90e8\u4efd\u6709\u9ede\u8907\u96dc, \u7b49\u5230\u6211\u5011\u6709\u9ede\u57fa\u790e\u5f8c\u518d\u9032\u884c, \u53e6\u5916\u9019\u662fpython 2.7\u7684\u4f7f\u7528\u6cd5, python 3\u7684\u4f5c\u6cd5\u7a0d\u6709\u4e0d\u540c. \n",
      "\n",
      "\u53e6\u5916\u8acb\u6ce8\u610f\u5e95\u4e0b\u7684\u4f8b\u5b50, \u7531\u65bc\u592a\u9577\u6240\u4ee5\u4f7f\u7528\\\u65b7\u884c"
     ]
    },
    {
     "cell_type": "code",
     "collapsed": false,
     "input": [
      "name = raw_input(\"What is your name?\")\n",
      "quest = raw_input(\"What is your quest?\")\n",
      "color = raw_input(\"What is your favorite color?\")\n",
      "\n",
      "print \"Ah, so your name is %s, your quest is %s, \" \\\n",
      "\"and your favorite color is %s.\" %(name, quest, color)"
     ],
     "language": "python",
     "metadata": {},
     "outputs": [
      {
       "name": "stdout",
       "output_type": "stream",
       "stream": "stdout",
       "text": [
        "What is your name?mhchen\n"
       ]
      },
      {
       "name": "stdout",
       "output_type": "stream",
       "stream": "stdout",
       "text": [
        "What is your quest?teach\n"
       ]
      },
      {
       "name": "stdout",
       "output_type": "stream",
       "stream": "stdout",
       "text": [
        "What is your favorite color?blue\n"
       ]
      },
      {
       "output_type": "stream",
       "stream": "stdout",
       "text": [
        "Ah, so your name is mhchen, your quest is teach, and your favorite color is blue.\n"
       ]
      }
     ],
     "prompt_number": 19
    },
    {
     "cell_type": "heading",
     "level": 3,
     "metadata": {},
     "source": [
      "Date and Time"
     ]
    },
    {
     "cell_type": "raw",
     "metadata": {},
     "source": [
      "\u5982\u679c\u9700\u8981\u4f7f\u7528datetime\u529f\u80fd\u6642, \u9700\u5f15\u5165datetime\u6a21\u7d44\uff1afrom datetime import datetime\n",
      "\n",
      "datetime.now()\uff1a\u50b3\u56de\u7684\u662f\u73fe\u5728\u7684\u6642\u9593\u65e5\u671f, \u5982\u679c\u9700\u8981\u5176\u4e2d\u7684\u5e74\u6708\u65e5\u6642\u5206\u7b49\u8cc7\u8a0a\u53ef\u4ee5\u4f7f\u7528 .year, .month, .day, .hour, .minute, .second"
     ]
    },
    {
     "cell_type": "code",
     "collapsed": false,
     "input": [
      "from datetime import datetime\n",
      "now = datetime.now()\n",
      "print now\n",
      "print now.year\n",
      "print now.month\n",
      "print datetime.now().day\n",
      "print '%s/%s/%s %s:%s:%s' % (now.month, now.day, now.year,now.hour, now.minute, now.second)"
     ],
     "language": "python",
     "metadata": {},
     "outputs": [
      {
       "output_type": "stream",
       "stream": "stdout",
       "text": [
        "2014-05-05 22:13:34.279683\n",
        "2014\n",
        "5\n",
        "5\n",
        "5/5/2014 22:13:34\n"
       ]
      }
     ],
     "prompt_number": 23
    },
    {
     "cell_type": "heading",
     "level": 2,
     "metadata": {},
     "source": [
      "Conditionals & Control Flow"
     ]
    },
    {
     "cell_type": "code",
     "collapsed": false,
     "input": [
      "def clinic():\n",
      "    print \"You've just entered the clinic!\"\n",
      "    print \"Do you take the door on the left or the right?\"\n",
      "    answer = raw_input(\"Type left or right and hit 'Enter'.\").lower()\n",
      "    if answer == \"left\" or answer == \"l\":\n",
      "        print \"This is the Verbal Abuse Room, you heap of parrot droppings!\"\n",
      "    elif answer == \"right\" or answer == \"r\":\n",
      "        print \"Of course this is the Argument Room, I've told you that already!\"\n",
      "    else:\n",
      "        print \"You didn't pick left or right! Try again.\"\n",
      "        clinic()\n",
      "\n",
      "clinic()"
     ],
     "language": "python",
     "metadata": {},
     "outputs": [
      {
       "output_type": "stream",
       "stream": "stdout",
       "text": [
        "You've just entered the clinic!\n",
        "Do you take the door on the left or the right?\n"
       ]
      },
      {
       "name": "stdout",
       "output_type": "stream",
       "stream": "stdout",
       "text": [
        "Type left or right and hit 'Enter'.left\n"
       ]
      },
      {
       "output_type": "stream",
       "stream": "stdout",
       "text": [
        "This is the Verbal Abuse Room, you heap of parrot droppings!\n"
       ]
      }
     ],
     "prompt_number": 24
    },
    {
     "cell_type": "markdown",
     "metadata": {},
     "source": [
      "\u5e95\u4e0b\u662f\u516d\u500b\u6bd4\u8f03\u7684\u904b\u7b97\n",
      "\n",
      "1.Equal to (==)\n",
      "\n",
      "2.Not equal to (!=)\n",
      "\n",
      "3.Less than (<)\n",
      "                \n",
      "4.Less than or equal to (<=)\n",
      "\n",
      "5.Greater than (>)\n",
      "\n",
      "6.Greater than or equal to (>=)"
     ]
    },
    {
     "cell_type": "markdown",
     "metadata": {},
     "source": [
      "\u904b\u7b97\u5b50\u5148\u5f8c\u9806\u5e8f\u8acb\u53c3\u8003\uff1a\n",
      "http://www.swaroopch.com/notes/python/#op_exp ,\n",
      "\u4f46\u662f\u5efa\u8b70\u9069\u7576\u4f7f\u7528\u62ec\u865f\u8b93\u7a0b\u5f0f\u65b9\u4fbf\u95b1\u8b80\u540c\u6642\u907f\u514d\u932f\u8aa4"
     ]
    },
    {
     "cell_type": "heading",
     "level": 4,
     "metadata": {},
     "source": [
      "Control Flow"
     ]
    },
    {
     "cell_type": "markdown",
     "metadata": {},
     "source": [
      "if-(elif)-else\u7684\u67b6\u69cb\u53ef\u4ee5\u53c3\u8003\u5e95\u4e0b\u9019\u500b\u4f8b\u5b50"
     ]
    },
    {
     "cell_type": "code",
     "collapsed": false,
     "input": [
      "def greater_less_equal_5(answer):\n",
      "    if answer>5:\n",
      "        return 1\n",
      "    elif answer<5:          \n",
      "        return -1\n",
      "    else:\n",
      "        return 0\n",
      "        \n",
      "print greater_less_equal_5(4)\n",
      "print greater_less_equal_5(5)\n",
      "print greater_less_equal_5(6)"
     ],
     "language": "python",
     "metadata": {},
     "outputs": [
      {
       "output_type": "stream",
       "stream": "stdout",
       "text": [
        "-1\n",
        "0\n",
        "1\n"
       ]
      }
     ],
     "prompt_number": 25
    },
    {
     "cell_type": "code",
     "collapsed": false,
     "input": [],
     "language": "python",
     "metadata": {},
     "outputs": []
    }
   ],
   "metadata": {}
  }
 ]
}