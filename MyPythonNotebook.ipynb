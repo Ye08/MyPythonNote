{
 "metadata": {
  "name": "",
  "signature": "sha256:7506a1fbe1cdad7bfb5190c7d03e2cfce486f54f4628f58a979af2452c822f71"
 },
 "nbformat": 3,
 "nbformat_minor": 0,
 "worksheets": [
  {
   "cells": [
    {
     "cell_type": "markdown",
     "metadata": {},
     "source": [
      "\u524d\u8a00\uff1a\u57fa\u672c\u4e0a\u9019\u662fcodeacademy\u7684\u5b78\u7fd2\u7b46\u8a18\uff0c\n"
     ]
    },
    {
     "cell_type": "heading",
     "level": 1,
     "metadata": {},
     "source": [
      "Python Syntax"
     ]
    },
    {
     "cell_type": "markdown",
     "metadata": {},
     "source": [
      "print \u6307\u4ee4\uff1aprint \u5b57\u4e32; print \u8b8a\u6578; print \u5b57\u4e32, \u8b8a\u6578, etc"
     ]
    },
    {
     "cell_type": "code",
     "collapsed": false,
     "input": [
      "print \"Welcome to Python!\""
     ],
     "language": "python",
     "metadata": {},
     "outputs": [
      {
       "output_type": "stream",
       "stream": "stdout",
       "text": [
        "Welcome to Python!\n"
       ]
      }
     ],
     "prompt_number": 1
    },
    {
     "cell_type": "markdown",
     "metadata": {},
     "source": [
      "\u8b8a\u6578\u8ce6\u503c\uff1a\u8b8a\u6578 = \u503c\n",
      "\n",
      "\u8b8a\u6578\u578b\u614b\uff1a\u6574\u6578\uff08Integer), \u6d6e\u9ede\u6578(float), boolean(True/False)\n",
      "\n",
      "\u7a0b\u5f0f\u4e2d\u8b8a\u6578\u53ef\u4ee5\u96a8\u6642\u66f4\u6539\u5176\u503c, \u5728Python\u4e2d, \u751a\u81f3\u53ef\u4ee5\u66f4\u6539\u8b8a\u6578\u578b\u614b"
     ]
    },
    {
     "cell_type": "code",
     "collapsed": false,
     "input": [
      "my_int = 10\n",
      "my_float = 0.123\n",
      "my_bool = True\n",
      "print \"my_int =\", my_int, \"my_float = \",my_float,  \"my_bool =\",my_bool\n",
      "my_var = 10\n",
      "print \"my_var = \", my_var\n",
      "my_var = False\n",
      "print \"my_var = \", my_var"
     ],
     "language": "python",
     "metadata": {},
     "outputs": [
      {
       "output_type": "stream",
       "stream": "stdout",
       "text": [
        "my_int = 10 my_float =  0.123 my_bool = True\n",
        "my_var =  10\n",
        "my_var =  False\n"
       ]
      }
     ],
     "prompt_number": 2
    },
    {
     "cell_type": "markdown",
     "metadata": {},
     "source": [
      "\u7e2e\u6392\uff1aPython\u4e2d\u662f\u4ee5\u7e2e\u6392\u4f86\u5340\u5206\u5c64\u7d1a, \u4f8b\u5982\u51fd\u6578\u5b9a\u7fa9, \u8ff4\u5708\u7b49\u7b49\n",
      "\n",
      "\u5e95\u4e0b\u662f\u4e00\u500b\u7e2e\u6392\u7684\u4f8b\u5b50, def \u662f\u5728\u5b9a\u7fa9\u4e00\u500b\u51fd\u6578"
     ]
    },
    {
     "cell_type": "code",
     "collapsed": false,
     "input": [
      "def spam():\n",
      "    eggs = 12\n",
      "    return eggs\n",
      "    \n",
      "print spam()"
     ],
     "language": "python",
     "metadata": {},
     "outputs": [
      {
       "output_type": "stream",
       "stream": "stdout",
       "text": [
        "12\n"
       ]
      }
     ],
     "prompt_number": 3
    },
    {
     "cell_type": "markdown",
     "metadata": {},
     "source": [
      "\u8a3b\u89e3\uff1a\u4e00\u822c\u55ae\u884c\u8a3b\u89e3\u6216\u662f\u5728\u884c\u5c3e\u8a3b\u89e3\u53ef\u4ee5\u4f7f\u7528#, \u82e5\u8981\u591a\u884c\u8a3b\u89e3\u5247\u4ee5\"\"\"\u958b\u982d,\"\"\"\u7d50\u5c3e"
     ]
    },
    {
     "cell_type": "markdown",
     "metadata": {},
     "source": [
      "\u6578\u5b78\uff1a\u52a0\u6e1b\u4e58\u9664\u56db\u5247\u904b\u7b97\u7b26\u865f\u662f\u4e00\u822c\u5e38\u7528\u7b26\u865f, \u6b21\u65b9\u5247\u6539\u70ba\\** \u800c\u4e0d\u662f^, \u540c\u9918\u5247\u662f %"
     ]
    },
    {
     "cell_type": "code",
     "collapsed": false,
     "input": [
      "print \"1+2+3+4*5 = \", 1+2+3+4*5 \n",
      "print \"2^3 = \", 2**3\n",
      "print \"3 %2 =\", 3%2"
     ],
     "language": "python",
     "metadata": {},
     "outputs": [
      {
       "output_type": "stream",
       "stream": "stdout",
       "text": [
        "1+2+3+4*5 =  26\n",
        "2^3 =  8\n",
        "3 %2 = 1\n"
       ]
      }
     ],
     "prompt_number": 4
    },
    {
     "cell_type": "heading",
     "level": 1,
     "metadata": {},
     "source": [
      "STRINGS AND CONSOLE OUTPUT"
     ]
    },
    {
     "cell_type": "markdown",
     "metadata": {},
     "source": [
      "\u5b57\u4e32\u7684\u5b9a\u7fa9\u65b9\u5f0f\u662f\u4ee5\u96d9\u5f15\u865f\u6216\u662f\u55ae\u5f15\u865f\u593e\u8d77\u4f86"
     ]
    },
    {
     "cell_type": "code",
     "collapsed": false,
     "input": [
      "caesar = \"Graham\"\n",
      "praline = 'John'\n",
      "print caesar\n",
      "print praline"
     ],
     "language": "python",
     "metadata": {},
     "outputs": [
      {
       "output_type": "stream",
       "stream": "stdout",
       "text": [
        "Graham\n",
        "John\n"
       ]
      }
     ],
     "prompt_number": 5
    },
    {
     "cell_type": "markdown",
     "metadata": {},
     "source": [
      "Escaping characters\uff1a\u6709\u4e9b\u5b57\u5143\u6709\u7279\u6b8a\u7528\u9014, \u6240\u4ee5\u51fa\u73fe\u5728\u5b57\u4e32\u4e2d\u6642\u5fc5\u9808\u52a0\u5165\u53cd\u659c\u7dda\\"
     ]
    },
    {
     "cell_type": "code",
     "collapsed": false,
     "input": [
      "print 'This isn\\'t flying, this is falling with style!'\n",
      "print \"\\\" is another special character.\""
     ],
     "language": "python",
     "metadata": {},
     "outputs": [
      {
       "output_type": "stream",
       "stream": "stdout",
       "text": [
        "This isn't flying, this is falling with style!\n",
        "\" is another special character.\n"
       ]
      }
     ],
     "prompt_number": 6
    },
    {
     "cell_type": "markdown",
     "metadata": {},
     "source": [
      "\u5b57\u4e32\u53ef\u4ee5\u8996\u70ba\u4e00\u500barray, \u6240\u4ee5\u53ef\u4ee5\u4f7f\u7528index\u6311\u51fa\u5b57\u4e32\u4e2d\u7279\u5b9a\u5e7e\u500b\u5b57\u5143. \u6ce8\u610findex\u75310\u958b\u59cb"
     ]
    },
    {
     "cell_type": "code",
     "collapsed": false,
     "input": [
      "my_str = \"STRINGS\"\n",
      "print \"The whole string is \",my_str,\" and the first character is \", my_str[0], \". The last characters are \",my_str[-3:]"
     ],
     "language": "python",
     "metadata": {},
     "outputs": [
      {
       "output_type": "stream",
       "stream": "stdout",
       "text": [
        "The whole string is  STRINGS  and the first character is  S . The last characters are  NGS\n"
       ]
      }
     ],
     "prompt_number": 7
    },
    {
     "cell_type": "raw",
     "metadata": {},
     "source": [
      "\u8207\u5b57\u4e32\u76f8\u95dc\u7684\u5e7e\u500b\u51fd\u6578\uff1a\n",
      "\n",
      "len(mystr)\uff1a\u50b3\u56de\u5b57\u4e32mystr\u7684\u9577\u5ea6\n",
      "\n",
      "mystr.lower()\uff1a\u5c07\u5b57\u4e32mystr\u90fd\u6539\u70ba\u5c0f\u5beb\n",
      "\n",
      "mystr.upper()\uff1a\u5c07\u5b57\u4e32mystr\u90fd\u6539\u70ba\u5927\u5beb\n",
      "\n",
      "str(mynum)\uff1a\u5c07mynum\uff08\u6578\u503c\u6216\u662f\u6578\u503c\u8b8a\u6578\uff09\u8f49\u70ba\u5b57\u4e32"
     ]
    },
    {
     "cell_type": "code",
     "collapsed": false,
     "input": [
      "my_str = \"Mathematics\"\n",
      "print \"The length of my_str is\", len(my_str)\n",
      "print \"The effect of upper on my_str is\", my_str.upper()\n",
      "print \"The effect of lower on my_str is\", my_str.lower()\n",
      "print \"The third character of the 12345 is\", str(12345)[2]"
     ],
     "language": "python",
     "metadata": {},
     "outputs": [
      {
       "output_type": "stream",
       "stream": "stdout",
       "text": [
        "The length of my_str is 11\n",
        "The effect of upper on my_str is MATHEMATICS\n",
        "The effect of lower on my_str is mathematics\n",
        "The third character of the 12345 is 3\n"
       ]
      }
     ],
     "prompt_number": 8
    },
    {
     "cell_type": "markdown",
     "metadata": {},
     "source": [
      "\u5b57\u4e32\u53ef\u4ee5\u7528+\u9019\u500b\u904b\u7b97\u9023\u63a5\u8d77\u4f86, \u6ce8\u610f\u9023\u8d77\u4f86\u5f8c\u7684\u5b57\u4e32\u5728\u539f\u5148\u7684\u5b57\u4e32\u9593\u6c92\u6709\u7a7a\u767d"
     ]
    },
    {
     "cell_type": "code",
     "collapsed": false,
     "input": [
      "print \"Spam \"+\"and \"+\"eggs\"\n",
      "str1 = \"Spam\"\n",
      "str2 = \"and\"\n",
      "str3 = \" eggs\"\n",
      "print str1+str2+str3"
     ],
     "language": "python",
     "metadata": {},
     "outputs": [
      {
       "output_type": "stream",
       "stream": "stdout",
       "text": [
        "Spam and eggs\n",
        "Spamand eggs\n"
       ]
      }
     ],
     "prompt_number": 9
    },
    {
     "cell_type": "heading",
     "level": 4,
     "metadata": {},
     "source": [
      "\u683c\u5f0f\u5316\u5b57\u4e32/\u8f38\u51fa"
     ]
    },
    {
     "cell_type": "markdown",
     "metadata": {},
     "source": [
      "\u6211\u5011\u7d93\u5e38\u6703\u78b0\u5230\u540c\u985e\u578b\u7684\u53e5\u5b50\uff08\u66f4\u63db\u90e8\u4efd\u540d\u8a5e\uff09\u4e00\u518d\u51fa\u73fe\u7684\u60c5\u5f62, \u53ef\u4ee5\u5728\u5b57\u4e32\u4e2d\u4ee5%s \u8868\u793a\u4e4b\u5f8c\u8981\u53d6\u4ee3\u7684\u4f4d\u7f6e, \u5b57\u4e32\u5f8c%\u5f8c\u7684\u5167\u5bb9\u8868\u793a\u8981\u53d6\u4ee3%s\u7684\u5167\u5bb9"
     ]
    },
    {
     "cell_type": "code",
     "collapsed": false,
     "input": [
      "string_1 = \"Camelot\"\n",
      "string_2 = \"place\"\n",
      "my_str = \"Let's not go to %s. 'Tis a silly %s.\"\n",
      "print \"Let's not go to %s. 'Tis a silly %s.\" % (string_1, string_2)\n",
      "print my_str % (string_1, string_2)"
     ],
     "language": "python",
     "metadata": {},
     "outputs": [
      {
       "output_type": "stream",
       "stream": "stdout",
       "text": [
        "Let's not go to Camelot. 'Tis a silly place.\n",
        "Let's not go to Camelot. 'Tis a silly place.\n"
       ]
      }
     ],
     "prompt_number": 10
    },
    {
     "cell_type": "heading",
     "level": 4,
     "metadata": {},
     "source": [
      "\u8f38\u5165raw_input"
     ]
    },
    {
     "cell_type": "markdown",
     "metadata": {},
     "source": [
      "my_str=raw_input(\"Display Message\") \u986f\u793a\"Display Message\"\u5f8c, \u8981\u6c42\u8f38\u5165\u8cc7\u8a0a, \u5c07\u7d50\u679c\u8ce6\u4e88my_str. \u6ce8\u610f\u4e2d\u6587\u8f38\u5165\u90e8\u4efd\u6709\u9ede\u8907\u96dc, \u7b49\u5230\u6211\u5011\u6709\u9ede\u57fa\u790e\u5f8c\u518d\u9032\u884c, \u53e6\u5916\u9019\u662fpython 2.7\u7684\u4f7f\u7528\u6cd5, python 3\u7684\u4f5c\u6cd5\u7a0d\u6709\u4e0d\u540c. \n",
      "\n",
      "\u53e6\u5916\u8acb\u6ce8\u610f\u5e95\u4e0b\u7684\u4f8b\u5b50, \u7531\u65bc\u592a\u9577\u6240\u4ee5\u4f7f\u7528\\\u65b7\u884c"
     ]
    },
    {
     "cell_type": "code",
     "collapsed": false,
     "input": [
      "name = raw_input(\"What is your name?\")\n",
      "quest = raw_input(\"What is your quest?\")\n",
      "color = raw_input(\"What is your favorite color?\")\n",
      "\n",
      "print \"Ah, so your name is %s, your quest is %s, \" \\\n",
      "\"and your favorite color is %s.\" %(name, quest, color)"
     ],
     "language": "python",
     "metadata": {},
     "outputs": [
      {
       "name": "stdout",
       "output_type": "stream",
       "stream": "stdout",
       "text": [
        "What is your name?mhchen\n"
       ]
      },
      {
       "name": "stdout",
       "output_type": "stream",
       "stream": "stdout",
       "text": [
        "What is your quest?grail\n"
       ]
      },
      {
       "name": "stdout",
       "output_type": "stream",
       "stream": "stdout",
       "text": [
        "What is your favorite color?blue\n"
       ]
      },
      {
       "output_type": "stream",
       "stream": "stdout",
       "text": [
        "Ah, so your name is mhchen, your quest is grail, and your favorite color is blue.\n"
       ]
      }
     ],
     "prompt_number": 11
    },
    {
     "cell_type": "heading",
     "level": 3,
     "metadata": {},
     "source": [
      "Date and Time"
     ]
    },
    {
     "cell_type": "raw",
     "metadata": {},
     "source": [
      "\u5982\u679c\u9700\u8981\u4f7f\u7528datetime\u529f\u80fd\u6642, \u9700\u5f15\u5165datetime\u6a21\u7d44\uff1afrom datetime import datetime\n",
      "\n",
      "datetime.now()\uff1a\u50b3\u56de\u7684\u662f\u73fe\u5728\u7684\u6642\u9593\u65e5\u671f, \u5982\u679c\u9700\u8981\u5176\u4e2d\u7684\u5e74\u6708\u65e5\u6642\u5206\u7b49\u8cc7\u8a0a\u53ef\u4ee5\u4f7f\u7528 .year, .month, .day, .hour, .minute, .second"
     ]
    },
    {
     "cell_type": "code",
     "collapsed": false,
     "input": [
      "from datetime import datetime\n",
      "now = datetime.now()\n",
      "print now\n",
      "print now.year\n",
      "print now.month\n",
      "print datetime.now().day\n",
      "print '%s/%s/%s %s:%s:%s' % (now.month, now.day, now.year,now.hour, now.minute, now.second)"
     ],
     "language": "python",
     "metadata": {},
     "outputs": [
      {
       "output_type": "stream",
       "stream": "stdout",
       "text": [
        "2014-05-26 01:56:22.124397\n",
        "2014\n",
        "5\n",
        "26\n",
        "5/26/2014 1:56:22\n"
       ]
      }
     ],
     "prompt_number": 12
    },
    {
     "cell_type": "heading",
     "level": 1,
     "metadata": {},
     "source": [
      "Conditionals & Control Flow"
     ]
    },
    {
     "cell_type": "markdown",
     "metadata": {},
     "source": [
      "\u5e95\u4e0b\u7684\u4f8b\u5b50\u4e2d\u5b9a\u4e00\u4e86\u4e00\u500b\u51fd\u6578clinic, \u6ce8\u610f\u51fd\u6578\u7d50\u675f\u7684\u4f4d\u7f6e, \u540c\u6642\u5728\u4e3b\u7a0b\u5f0f\u4e2d\u5982\u4f55\u547c\u53ebclinic, \u9084\u6709\u905e\u8ff4\u547c\u53eb\u51fd\u6578\u7684\u90e8\u4efd.\n",
      "\u5728\u9019\u500b\u5c0f\u7bc0\u4e2d\uff0c\u91cd\u9ede\u662f\u5728control flow, \u4e5f\u5c31\u662fif-elif-else\u7684\u90e8\u4efd, \u6ce8\u610f\u7e2e\u6392\u4ee5\u53ca\u5192\u865f\u7684\u4f4d\u7f6e"
     ]
    },
    {
     "cell_type": "code",
     "collapsed": false,
     "input": [
      "def clinic():\n",
      "    print \"You've just entered the clinic!\"\n",
      "    print \"Do you take the door on the left or the right?\"\n",
      "    answer = raw_input(\"Type left or right and hit 'Enter'.\").lower()\n",
      "    if answer == \"left\" or answer == \"l\":\n",
      "        print \"This is the Verbal Abuse Room, you heap of parrot droppings!\"\n",
      "    elif answer == \"right\" or answer == \"r\":\n",
      "        print \"Of course this is the Argument Room, I've told you that already!\"\n",
      "    else:\n",
      "        print \"You didn't pick left or right! Try again.\"\n",
      "        clinic()\n",
      "\n",
      "clinic()"
     ],
     "language": "python",
     "metadata": {},
     "outputs": [
      {
       "output_type": "stream",
       "stream": "stdout",
       "text": [
        "You've just entered the clinic!\n",
        "Do you take the door on the left or the right?\n"
       ]
      },
      {
       "name": "stdout",
       "output_type": "stream",
       "stream": "stdout",
       "text": [
        "Type left or right and hit 'Enter'.l\n"
       ]
      },
      {
       "output_type": "stream",
       "stream": "stdout",
       "text": [
        "This is the Verbal Abuse Room, you heap of parrot droppings!\n"
       ]
      }
     ],
     "prompt_number": 13
    },
    {
     "cell_type": "markdown",
     "metadata": {},
     "source": [
      "\u5e95\u4e0b\u662f\u516d\u500b\u6bd4\u8f03\u7684\u904b\u7b97\n",
      "\n",
      "1.Equal to (==)\n",
      "\n",
      "2.Not equal to (!=)\n",
      "\n",
      "3.Less than (<)\n",
      "                \n",
      "4.Less than or equal to (<=)\n",
      "\n",
      "5.Greater than (>)\n",
      "\n",
      "6.Greater than or equal to (>=)"
     ]
    },
    {
     "cell_type": "markdown",
     "metadata": {},
     "source": [
      "\u904b\u7b97\u5b50\u5148\u5f8c\u9806\u5e8f\u8acb\u53c3\u8003\uff1a\n",
      "http://www.swaroopch.com/notes/python/#op_exp ,\n",
      "\u4f46\u662f\u5efa\u8b70\u9069\u7576\u4f7f\u7528\u62ec\u865f\u8b93\u7a0b\u5f0f\u65b9\u4fbf\u95b1\u8b80\u540c\u6642\u907f\u514d\u932f\u8aa4"
     ]
    },
    {
     "cell_type": "heading",
     "level": 4,
     "metadata": {},
     "source": [
      "Control Flow"
     ]
    },
    {
     "cell_type": "markdown",
     "metadata": {},
     "source": [
      "if-(elif)-else\u7684\u67b6\u69cb\u53ef\u4ee5\u53c3\u8003\u5e95\u4e0b\u9019\u500b\u4f8b\u5b50"
     ]
    },
    {
     "cell_type": "code",
     "collapsed": false,
     "input": [
      "def greater_less_equal_5(answer):\n",
      "    if answer>5:\n",
      "        return 1\n",
      "    elif answer<5:          \n",
      "        return -1\n",
      "    else:\n",
      "        return 0\n",
      "        \n",
      "print greater_less_equal_5(4)\n",
      "print greater_less_equal_5(5)\n",
      "print greater_less_equal_5(6)"
     ],
     "language": "python",
     "metadata": {},
     "outputs": [
      {
       "output_type": "stream",
       "stream": "stdout",
       "text": [
        "-1\n",
        "0\n",
        "1\n"
       ]
      }
     ],
     "prompt_number": 14
    },
    {
     "cell_type": "heading",
     "level": 3,
     "metadata": {},
     "source": [
      "PygLatin"
     ]
    },
    {
     "cell_type": "raw",
     "metadata": {},
     "source": [
      "Pig Latin\u662f\u500b\u7c21\u55ae\u7684\u6587\u5b57\u904a\u6232\u6587\u5b57\u904a\u6232, \u57fa\u672c\u4e0a\u662f\u5c07\u4e00\u500b\u5b57\u7684\u5b57\u9996\u79fb\u5230\u5b57\u5c3e\u5f8c\u518d\u52a0\u4e0a\"ay\". \u7a0b\u5f0f\u9700\u8981\u8003\u616e\u8f38\u5165\u7684\u5b57\u662f\u5426\u6709\u8f38\u5165\uff08\u6aa2\u67e5\u5b57\u4e32\u9577\u5ea6len\uff09\u662f\u5426\u662f\u82f1\u6587(isalpha). \u5728\u5c07\u81ea\u9996\u79fb\u5230\u5b57\u5c3e\u540c\u6642\u52a0\u4e0a\"ay\"\u7684\u904e\u7a0b\u4e2d, \u662f\u7c21\u55ae\u5b57\u4e32\u64cd\u4f5c, \u9700\u6ce8\u610f\u7684\u662f\u5b57\u4e32\u7b2c\u4e00\u500b\u5b57\u5143\u7684\u7de8\u865f\u662f0, \u540c\u6642\u82e5\u5e0c\u671b\u8868\u793a\u5f9e\u7b2c\u4e8c\u500b\u5b57\u5143\u5230\u5b57\u5c3e\u7684\u6307\u5b9a\u65b9\u5f0f\u9664\u4e86[1:len(new_word)]\u5916, \u4e5f\u53ef\u4ee5\u7528[1:]. \u5e95\u4e0b\u662f\u4e00\u500b\u6709\u9ede\u8b8a\u5316\u7684\u4f8b\u5b50, \u5c07\u5b57\u4e32\u8f38\u5165\u53ca\u64cd\u4f5c\u904e\u7a0b\u5b9a\u7fa9\u70ba\u4e00\u51fd\u6578pyglatin, \u540c\u6642\u4f7f\u7528\u905e\u8ff4\u547c\u53eb\u7684\u6280\u5de7\u540c\u6642\u4f7f\u7528\u905e\u8ff4\u547c\u53eb\u7684\u6280\u5de7, \u5728\u6c92\u6709\u8f38\u5165\u6b63\u78ba\u6587\u5b57\u6642\u8981\u6c42\u91cd\u65b0\u8f38\u5165"
     ]
    },
    {
     "cell_type": "code",
     "collapsed": false,
     "input": [
      "pyg = 'ay'\n",
      "def pyglatin():\n",
      "    original = raw_input('Enter a word:')  \n",
      "    if len(original) > 0 and original.isalpha():\n",
      "        print original\n",
      "        word = original.lower()\n",
      "        first = word[0]\n",
      "        new_word = word+first+pyg\n",
      "        new_word = new_word[1:]\n",
      "        print new_word\n",
      "    else:\n",
      "        print 'empty'\n",
      "        pyglatin()\n",
      "pyglatin()"
     ],
     "language": "python",
     "metadata": {},
     "outputs": [
      {
       "name": "stdout",
       "output_type": "stream",
       "stream": "stdout",
       "text": [
        "Enter a word:python\n"
       ]
      },
      {
       "output_type": "stream",
       "stream": "stdout",
       "text": [
        "python\n",
        "ythonpay\n"
       ]
      }
     ],
     "prompt_number": 15
    },
    {
     "cell_type": "heading",
     "level": 1,
     "metadata": {},
     "source": [
      "FUNCTIONS"
     ]
    },
    {
     "cell_type": "markdown",
     "metadata": {},
     "source": [
      "\u5e95\u4e0b\u4f8b\u5b50\u662f\u5b9a\u7fa9\u4e00\u500b\u8a08\u7b97\u5e73\u65b9\u7684\u51fd\u6578square, \u5b9a\u7fa9\u7684\u65b9\u5f0f\u662f\u4f7f\u7528def \u958b\u982d, \u82e5\u6709\u8f38\u5165\u53c3\u6578, \u5247\u5728\u62ec\u5f27\u4e2d\u653e\u5165\u53c3\u6578,  \u82e5\u6c92\u6709\u8f38\u5165\u53c3\u6578\u5247\u62ec\u5f27\u5167\u662f\u7a7a\u7684. \u4ee5\u7e2e\u6392\u5340\u5225\u51fd\u6578\u548c\u4e3b\u7a0b\u5f0f, \u51fd\u6578\u82e5\u6709\u56de\u50b3\u503c\u6642 \u5c07\u56de\u50b3\u503c\u5beb\u5728return\u5f8c."
     ]
    },
    {
     "cell_type": "code",
     "collapsed": false,
     "input": [
      "def square(n):\n",
      "    \"\"\"Returns the square of a number.\"\"\"\n",
      "    squared = n**2\n",
      "    print \"%d squared is %d.\" % (n, squared)\n",
      "    return squared\n",
      "    \n",
      "# Call the square function on line 9! Make sure to\n",
      "# include the number 10 between the parentheses.\n",
      "square(10)"
     ],
     "language": "python",
     "metadata": {},
     "outputs": [
      {
       "output_type": "stream",
       "stream": "stdout",
       "text": [
        "10 squared is 100.\n"
       ]
      },
      {
       "metadata": {},
       "output_type": "pyout",
       "prompt_number": 16,
       "text": [
        "100"
       ]
      }
     ],
     "prompt_number": 16
    },
    {
     "cell_type": "heading",
     "level": 3,
     "metadata": {},
     "source": [
      "Importing a module"
     ]
    },
    {
     "cell_type": "markdown",
     "metadata": {},
     "source": [
      "\u5728python\u4e2d\u6b32\u4f7f\u7528\u7279\u6b8a\u51fd\u5f0f\u5eab\u6642\u9700import\u7279\u5b9a\u6a21\u7d44, \u4ee5math module\u4f86\u8aaa, \u6b32\u4f7f\u7528\u5176\u4e2d\u7684sqrt\u51fd\u6578\u6642,  \u6709\u5e7e\u7a2e\u65b9\u6cd5\n",
      "1. import math \n",
      "2. from math import sqrt\n",
      "3. from math import *\n",
      "\n",
      "\u5e95\u4e0b\u662f\u7b2c\u4e00\u7a2e\u65b9\u6cd5, \u4f7f\u7528\u6642\u9700\u4ee5math.sqrt()\u547c\u53eb. \u53e6\u5916\u9019\u7a2e\u65b9\u6cd5\u6703\u5c07math\u6a21\u7d44\u5167\u5176\u4ed6\u7269\u4ef6\u4e5f\u4e00\u8d77\u5f15\u5165, \u9019\u53ef\u4ee5\u7528dir()\u51fd\u6578\u770b\u5230math\u88e1\u7684\u51fd\u6578 "
     ]
    },
    {
     "cell_type": "code",
     "collapsed": false,
     "input": [
      "import math\n",
      "print math.sqrt(25)\n",
      "print dir(math)"
     ],
     "language": "python",
     "metadata": {},
     "outputs": [
      {
       "output_type": "stream",
       "stream": "stdout",
       "text": [
        "5.0\n",
        "['__doc__', '__name__', '__package__', 'acos', 'acosh', 'asin', 'asinh', 'atan', 'atan2', 'atanh', 'ceil', 'copysign', 'cos', 'cosh', 'degrees', 'e', 'erf', 'erfc', 'exp', 'expm1', 'fabs', 'factorial', 'floor', 'fmod', 'frexp', 'fsum', 'gamma', 'hypot', 'isinf', 'isnan', 'ldexp', 'lgamma', 'log', 'log10', 'log1p', 'modf', 'pi', 'pow', 'radians', 'sin', 'sinh', 'sqrt', 'tan', 'tanh', 'trunc']\n"
       ]
      }
     ],
     "prompt_number": 17
    },
    {
     "cell_type": "markdown",
     "metadata": {},
     "source": [
      "\u7b2c\u4e8c\u7a2e\u65b9\u6cd5\u53ef\u4ee5\u76f4\u63a5\u4ee5sqrt()\u547c\u53eb"
     ]
    },
    {
     "cell_type": "code",
     "collapsed": false,
     "input": [
      "from math import sqrt\n",
      "print sqrt(25)"
     ],
     "language": "python",
     "metadata": {},
     "outputs": [
      {
       "output_type": "stream",
       "stream": "stdout",
       "text": [
        "5.0\n"
       ]
      }
     ],
     "prompt_number": 18
    },
    {
     "cell_type": "markdown",
     "metadata": {},
     "source": [
      "\u7b2c\u4e09\u7a2e\u65b9\u5f0f\u540c\u6a23\u4e5f\u53ef\u4ee5\u76f4\u63a5\u4ee5sqrt()\u547c\u53eb, \u4f46\u662f\u548c\u7b2c\u4e8c\u7a2e\u4e0d\u4e00\u6a23\u7684\u5730\u65b9\u5728\u65bc\u524d\u4e00\u7a2e\u53ea\u6709\u5f15\u5165sqrt, \u4f46\u662f\u9019\u4e00\u7a2e\u65b9\u6cd5\u5c07math\u6a21\u7d44\u5168\u90e8\u5f15\u5165\u5168\u90e8\u5f15\u5165, \u7a0b\u5f0f\u64b0\u5beb\u904e\u7a0b\u4e2d\u5f88\u5bb9\u6613\u6df7\u6dc6."
     ]
    },
    {
     "cell_type": "code",
     "collapsed": false,
     "input": [
      "from math import *\n",
      "print sqrt(25)"
     ],
     "language": "python",
     "metadata": {},
     "outputs": [
      {
       "output_type": "stream",
       "stream": "stdout",
       "text": [
        "5.0\n"
       ]
      }
     ],
     "prompt_number": 19
    },
    {
     "cell_type": "heading",
     "level": 2,
     "metadata": {},
     "source": [
      "LISTS & DICTIONARIES"
     ]
    },
    {
     "cell_type": "markdown",
     "metadata": {},
     "source": [
      "python\u4e2d\u7684dictionary\u4e00\u500b\u975e\u5e38\u7684\u67b6\u69cb\uff0c\u53ef\u4ee5\u8b93\u4f60\u65b9\u4fbf\u7684\u67e5\u8a62\u8cc7\u6599\uff0c\u5e95\u4e0b\u662f\u4e00\u500b\u7c21\u55ae\u7684dictionary"
     ]
    },
    {
     "cell_type": "code",
     "collapsed": false,
     "input": [
      "d = {'key1' : 1, 'key2' : 2, 'key3' : 3}\n",
      "print d['key2']"
     ],
     "language": "python",
     "metadata": {},
     "outputs": [
      {
       "output_type": "stream",
       "stream": "stdout",
       "text": [
        "2\n"
       ]
      }
     ],
     "prompt_number": 20
    },
    {
     "cell_type": "markdown",
     "metadata": {},
     "source": [
      "\u6bd4\u65b9\u8aaa\uff0c\u5982\u679c\u60f3\u8981\u77e5\u9053d\u88e1\u9762\u7684key3\u5c0d\u61c9\u7684\u503c\u70ba\u4f55\uff0c\u53ef\u4ee5\u4f7f\u7528d['key3']\u67e5\u8a62"
     ]
    },
    {
     "cell_type": "code",
     "collapsed": false,
     "input": [
      "start_list = [5, 3, 1, 2, 4]\n",
      "square_list = []\n",
      "\n",
      "# Your code here!\n",
      "\n",
      "for x in start_list:\n",
      "    square_list.append(x**2)\n",
      "    print \"x = \",x,\", square_list = \",square_list\n",
      "print square_list\n",
      "square_list.sort()\n",
      "print square_list"
     ],
     "language": "python",
     "metadata": {},
     "outputs": [
      {
       "output_type": "stream",
       "stream": "stdout",
       "text": [
        "x =  5 , square_list =  [25]\n",
        "x =  3 , square_list =  [25, 9]\n",
        "x =  1 , square_list =  [25, 9, 1]\n",
        "x =  2 , square_list =  [25, 9, 1, 4]\n",
        "x =  4 , square_list =  [25, 9, 1, 4, 16]\n",
        "[25, 9, 1, 4, 16]\n",
        "[1, 4, 9, 16, 25]\n"
       ]
      }
     ],
     "prompt_number": 21
    },
    {
     "cell_type": "code",
     "collapsed": false,
     "input": [
      "my_list = [1,9,3,8,5,7]\n",
      "\n",
      "for number in my_list:\n",
      "    # Your code here\n",
      "    print \"number =\",number,\"; 2*number =\",2*number"
     ],
     "language": "python",
     "metadata": {},
     "outputs": [
      {
       "output_type": "stream",
       "stream": "stdout",
       "text": [
        "number = 1 ; 2*number = 2\n",
        "number = 9 ; 2*number = 18\n",
        "number = 3 ; 2*number = 6\n",
        "number = 8 ; 2*number = 16\n",
        "number = 5 ; 2*number = 10\n",
        "number = 7 ; 2*number = 14\n"
       ]
      }
     ],
     "prompt_number": 22
    },
    {
     "cell_type": "markdown",
     "metadata": {},
     "source": [
      "\u5e95\u4e0b\u662f\u4e00\u500b\u7c21\u55ae\u7684\u8ff4\u5708\uff0citem \u6703\u4f9d\u5e8f\u7531in\u4e4b\u5f8c\u7684list\u53d6\u503c\uff0c\u540c\u6642\u57f7\u884c\u8ff4\u5708\u5167\u90e8\u7684\u7a0b\u5f0f\uff0c\u5728\u9019\u500b\u4f8b\u5b50\u4e2d\u662f\u9010\u4e00\u5217\u51faitem"
     ]
    },
    {
     "cell_type": "code",
     "collapsed": false,
     "input": [
      "for item in [1, 3, 21]: \n",
      "    print item"
     ],
     "language": "python",
     "metadata": {},
     "outputs": [
      {
       "output_type": "stream",
       "stream": "stdout",
       "text": [
        "1\n",
        "3\n",
        "21\n"
       ]
      }
     ],
     "prompt_number": 23
    },
    {
     "cell_type": "code",
     "collapsed": false,
     "input": [
      "prices = {\"banana\": 4,\"apple\": 2,\"orange\": 1.5,\"pear\": 3}\n",
      "\n",
      "stock = {\"banana\": 6,\"apple\": 0,\"orange\":32,\"pear\": 15}\n",
      "\n",
      "for item in prices:\n",
      "    print item\n",
      "    print \"price: %s\" % prices[item]\n",
      "    print \"stock: %s\" % stock[item]"
     ],
     "language": "python",
     "metadata": {},
     "outputs": [
      {
       "output_type": "stream",
       "stream": "stdout",
       "text": [
        "orange\n",
        "price: 1.5\n",
        "stock: 32\n",
        "pear\n",
        "price: 3\n",
        "stock: 15\n",
        "banana\n",
        "price: 4\n",
        "stock: 6\n",
        "apple\n",
        "price: 2\n",
        "stock: 0\n"
       ]
      }
     ],
     "prompt_number": 24
    },
    {
     "cell_type": "code",
     "collapsed": false,
     "input": [
      "def fizz_count(x):\n",
      "    count = 0\n",
      "    for item in x:\n",
      "        if item == \"fizz\":\n",
      "            count = count +1\n",
      "    return count\n",
      "    \n",
      "\n",
      "print fizz_count([\"fizz\",\"cat\",\"fizz\"])"
     ],
     "language": "python",
     "metadata": {},
     "outputs": [
      {
       "output_type": "stream",
       "stream": "stdout",
       "text": [
        "2\n"
       ]
      }
     ],
     "prompt_number": 25
    },
    {
     "cell_type": "code",
     "collapsed": false,
     "input": [
      "shopping_list = [\"banana\", \"orange\", \"apple\"]\n",
      "\n",
      "stock = {\n",
      "    \"banana\": 6,\n",
      "    \"apple\": 0,\n",
      "    \"orange\": 32,\n",
      "    \"pear\": 15\n",
      "}\n",
      "    \n",
      "prices = {\n",
      "    \"banana\": 4,\n",
      "    \"apple\": 2,\n",
      "    \"orange\": 1.5,\n",
      "    \"pear\": 3\n",
      "}\n",
      "\n",
      "# Write your code below!\n",
      "def compute_bill(food):\n",
      "    total = 0\n",
      "    for item in food:\n",
      "        print item\n",
      "        print \"price: %s\" % prices[item]\n",
      "        print \"stock: %s\" % stock[item]\n",
      "        total = total + prices[item]\n",
      "    return total\n",
      "print compute_bill(shopping_list)"
     ],
     "language": "python",
     "metadata": {},
     "outputs": [
      {
       "output_type": "stream",
       "stream": "stdout",
       "text": [
        "banana\n",
        "price: 4\n",
        "stock: 6\n",
        "orange\n",
        "price: 1.5\n",
        "stock: 32\n",
        "apple\n",
        "price: 2\n",
        "stock: 0\n",
        "7.5\n"
       ]
      }
     ],
     "prompt_number": 1
    },
    {
     "cell_type": "heading",
     "level": 4,
     "metadata": {},
     "source": [
      "Student Becomes the Teacher"
     ]
    },
    {
     "cell_type": "markdown",
     "metadata": {},
     "source": [
      "\u5e95\u4e0b\u662f\u8a08\u7b97\u5b78\u751f\u6210\u7e3e\u7684\u4e00\u500b\u7a0b\u5f0f\uff0c\u9996\u5148\u662f\u5b78\u751f\u7684\u7d00\u9304\u3002\u6bcf\u500b\u5b78\u751f\u7684\u6210\u7e3e\u7d00\u9304\u662f\u4ee5dictionary\u5132\u5b58\uff0c\u5176\u4e2d\u5305\u542b\u4e86\"name\"\uff0c\"homework\"\uff0c\"quizzes\"\uff0c\"tests\"\u3002\u6ce8\u610fdictionary\u4e2d\u7684\u503c\u53ef\u4ee5\u662flist\u3002"
     ]
    },
    {
     "cell_type": "code",
     "collapsed": false,
     "input": [
      "lloyd = {\n",
      "    \"name\": \"Lloyd\",\n",
      "    \"homework\": [90.0, 97.0, 75.0, 92.0],\n",
      "    \"quizzes\": [88.0, 40.0, 94.0],\n",
      "    \"tests\": [75.0, 90.0]\n",
      "}\n",
      "alice = {\n",
      "    \"name\": \"Alice\",\n",
      "    \"homework\": [100.0, 92.0, 98.0, 100.0],\n",
      "    \"quizzes\": [82.0, 83.0, 91.0],\n",
      "    \"tests\": [89.0, 97.0]\n",
      "}\n",
      "tyler = {\n",
      "    \"name\": \"Tyler\",\n",
      "    \"homework\": [0.0, 87.0, 75.0, 22.0],\n",
      "    \"quizzes\": [0.0, 75.0, 78.0],\n",
      "    \"tests\": [100.0, 100.0]\n",
      "}"
     ],
     "language": "python",
     "metadata": {},
     "outputs": [],
     "prompt_number": 8
    },
    {
     "cell_type": "raw",
     "metadata": {},
     "source": [
      "\u63a5\u8457\u6211\u5011\u5b9a\u7fa9\u4e86\u5e7e\u500b\u51fd\u6578\uff0c\u9996\u5148\u662f\u8a08\u7b97\u5e73\u5747\u5206\u6578\u7684\u51fd\u6578average\uff0c\u4ed6\u6703\u628a\u50b3\u9032\u4f86\u7684\u4e00\u7d44(list)\u6578\u5b57(numbers)\u52a0\u7e3d(\u4f7f\u7528\u5167\u5efa\u7684sum\u51fd\u6578)\uff0c\u518d\u5c07total\u9664\u4ee5\u8cc7\u6599\u500b\u6578(len)\u8a08\u7b97\u5e73\u5747\u3002\u6ce8\u610f\u70ba\u4e86\u907f\u514d\u8cc7\u6599\u578b\u614b\u51fa\u554f\u984c\uff0c\u6211\u5011\u4f7f\u7528float\u51fd\u6578\u5c07total\u8f49\u70ba\u6d6e\u9ede\u6578"
     ]
    },
    {
     "cell_type": "code",
     "collapsed": false,
     "input": [
      "# Add your function below!\n",
      "def average(numbers):\n",
      "    total = sum(numbers)\n",
      "    #print total\n",
      "    #print type(total)\n",
      "    total = float(total)\n",
      "    return total/len(numbers)"
     ],
     "language": "python",
     "metadata": {},
     "outputs": [],
     "prompt_number": 9
    },
    {
     "cell_type": "markdown",
     "metadata": {},
     "source": [
      "\u7b2c\u4e8c\u500b\u51fd\u6578\u662f\u5c07\u50b3\u9032\u4f86\u7684\u5b78\u751f\u7d00\u9304(dictionary)\uff0c\u5206\u5225\u8a08\u7b97homework\u3001 quizzes\u3001 tests\u7684\u5e73\u5747\uff0c\u518d\u8a08\u7b97\u52a0\u6b0a\u548c\u4f5c\u70ba\u5b78\u751f\u7684\u5e73\u5747\u5206\u6578"
     ]
    },
    {
     "cell_type": "code",
     "collapsed": false,
     "input": [
      "def get_average(student):\n",
      "    homework = average(student[\"homework\"])\n",
      "    quizzes = average(student[\"quizzes\"])\n",
      "    tests = average(student[\"tests\"])\n",
      "\n",
      "    return homework*0.1+quizzes*0.3+tests*0.6\n",
      "    "
     ],
     "language": "python",
     "metadata": {},
     "outputs": [],
     "prompt_number": 10
    },
    {
     "cell_type": "markdown",
     "metadata": {},
     "source": [
      "\u7b2c\u4e09\u500b\u51fd\u6578\u662f\u5224\u65b7\u6210\u7e3e(score)\u6240\u5c0d\u61c9\u7684\u7b49\u7b2c(letter grade)"
     ]
    },
    {
     "cell_type": "code",
     "collapsed": false,
     "input": [
      "def get_letter_grade(score):\n",
      "    if score >= 90: \n",
      "        return \"A\"\n",
      "    elif score >= 80:\n",
      "        return \"B\"\n",
      "    elif score >= 70:\n",
      "        return \"C\"\n",
      "    elif score >= 60:\n",
      "        return \"D\"\n",
      "    else: \n",
      "        return \"F\""
     ],
     "language": "python",
     "metadata": {},
     "outputs": [],
     "prompt_number": 11
    },
    {
     "cell_type": "markdown",
     "metadata": {},
     "source": [
      "\u6700\u5f8c\u4e00\u500b\u51fd\u6578\u662f\u8a08\u7b97\u6574\u73ed(students-list)\u7684\u5e73\u5747\u5206\u6578\uff0c\u6211\u5011\u5148\u5efa\u7acb\u4e00\u500b\u7a7a\u7684results list\uff0c\u4ee5\u65b9\u5f0f\uff0c\u4f9d\u5e8f\u8a08\u7b97\u6bcf\u500b\u5b78\u751f\u7684\u5e73\u5747\u5206\u6578\uff0c\u518d\u52a0\u5165results\u4e2d\uff0c\u6700\u5f8c\u518d\u8a08\u7b97\u5e73\u5747\u3002"
     ]
    },
    {
     "cell_type": "code",
     "collapsed": false,
     "input": [
      "def get_class_average(students):\n",
      "    results = []\n",
      "    for student in students:\n",
      "        results.append(get_average(student))\n",
      "    return average(results)"
     ],
     "language": "python",
     "metadata": {},
     "outputs": [],
     "prompt_number": 12
    },
    {
     "cell_type": "markdown",
     "metadata": {},
     "source": [
      "\u6700\u5e95\u4e0b\u7684\u90e8\u4efd\u5247\u662f\u5148\u5efa\u7acb\u4e00\u500b\u73ed\u7d1a\u7684list\uff0c\u4f7f\u7528\u524d\u9762\u5b9a\u7fa9\u7684\u51fd\u6578\u8a08\u7b97\u5e73\u5747\u6210\u7e3e"
     ]
    },
    {
     "cell_type": "code",
     "collapsed": true,
     "input": [
      "    \n",
      "students = [lloyd, alice, tyler]\n",
      "class_avg = get_class_average(students)\n",
      "print class_avg\n",
      "print get_letter_grade(class_avg)"
     ],
     "language": "python",
     "metadata": {},
     "outputs": [
      {
       "output_type": "stream",
       "stream": "stdout",
       "text": [
        "83.8666666667\n",
        "B\n"
       ]
      }
     ],
     "prompt_number": 13
    }
   ],
   "metadata": {}
  }
 ]
}