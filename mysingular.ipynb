{
 "metadata": {
  "name": "",
  "signature": "sha256:3a222478f10a060b738724755c91deeffb78822d4bdf285fe7a5135f773b2e00"
 },
 "nbformat": 3,
 "nbformat_minor": 0,
 "worksheets": [
  {
   "cells": [
    {
     "cell_type": "heading",
     "level": 1,
     "metadata": {},
     "source": [
      "Solution of an Example Problem in Perturbation Theory, Using Three Different Approaches in Sympy"
     ]
    },
    {
     "cell_type": "markdown",
     "metadata": {},
     "source": [
      "\u4ee5James Powell\u7684 <a href=http://www.math.usu.edu/powell/math5410/pertexample1.html>Solution of an Example Problem in Perturbation Theory, Using Three Different Approaches in Maple</a> \u70ba\u85cd\u672c\u6539\u5beb\u3002\u76f8\u95dc\u7684\u53c3\u8003\u8cc7\u6599\u8acb\u770b\u6700\u5e95\u4e0b\u7684\u9023\u7d50\u3002\n",
      "\n",
      "\u5728\u6c42\u89e3\u4e4b\u524d\uff0c\u6211\u5011\u5148\u8a2d\u5b9a\u986f\u793a\u74b0\u5883(sympy 0.7.4 \u7248\u5f8c\u53ef\u4ee5\u6709latex\u7684\u986f\u793a\u9078\u9805)\uff0c\u540c\u6642\u5f15\u5165\u5fc5\u8981\u7684\u6a21\u7d44\uff1a"
     ]
    },
    {
     "cell_type": "markdown",
     "metadata": {},
     "source": [
      "In this section we will use Sympy to generate a power series solution to the differential equation\n",
      "\n",
      " $$\\frac{\\partial^2}{\\partial t^2}u(t)+u(t) + \\epsilon u^2(t) = 0,\\quad u(0)=1, u'(0)=0.$$\n",
      "\n",
      "The first step will be to write a candidate solution (called y(t) below) as a polynomial in t with eight terms and unknown coefficients $a(j)$ for each power  $t^j$"
     ]
    },
    {
     "cell_type": "code",
     "collapsed": false,
     "input": [
      "import sympy\n",
      "if sympy.__version__ > \"0.7.4\":\n",
      "    from sympy.interactive import printing\n",
      "    printing.init_printing(use_latex=True)\n",
      "\n",
      "    from IPython.display import display\n",
      "\n",
      "from sympy import *\n",
      "from sympy.abc import t\n",
      "from sympy.solvers import solve"
     ],
     "language": "python",
     "metadata": {},
     "outputs": [],
     "prompt_number": 49
    },
    {
     "cell_type": "heading",
     "level": 2,
     "metadata": {},
     "source": [
      "Perturbation Solution"
     ]
    },
    {
     "cell_type": "markdown",
     "metadata": {},
     "source": [
      "\u5728\u9019\u500b\u5c0f\u7bc0\uff0c\u6211\u5011\u5c07\u4f7f\u7528regular perturbation theory\u89e3\u524d\u8ff0\u5fae\u5206\u65b9\u7a0b\u3002\u9996\u5148\u6211\u5011\u5c07u0\u3001u1\u3001u2\u90fd\u8a2d\u6210\u51fd\u6578\uff08symbolic)\uff0c\u540c\u6642\u5c07perturbed solution, ut\u4ee3\u5165\u65b9\u7a0b\u5f0f"
     ]
    },
    {
     "cell_type": "code",
     "collapsed": false,
     "input": [
      "eps = symbols('eps')\n",
      "u0 = Function('u0')\n",
      "u1 = Function('u1')\n",
      "u2 = Function('u2')\n",
      "ut = Function('ut')\n",
      "ut = u0(t)+eps*u1(t)+eps**2*u2(t)\n",
      "\n",
      "display(ut)\n",
      "eqpert = diff(ut,t,t)+ut+eps*ut**2 \n",
      "display(eqpert)"
     ],
     "language": "python",
     "metadata": {},
     "outputs": [
      {
       "latex": [
        "$$eps^{2} \\operatorname{u_{2}}{\\left (t \\right )} + eps \\operatorname{u_{1}}{\\left (t \\right )} + \\operatorname{u_{0}}{\\left (t \\right )}$$"
       ],
       "metadata": {},
       "output_type": "display_data",
       "png": "[encoded data removed]",
       "text": [
        "   2                          \n",
        "eps \u22c5u\u2082(t) + eps\u22c5u\u2081(t) + u\u2080(t)"
       ]
      },
      {
       "latex": [
        "$$eps^{2} \\operatorname{u_{2}}{\\left (t \\right )} + eps^{2} \\frac{d^{2}}{d t^{2}}  \\operatorname{u_{2}}{\\left (t \\right )} + eps \\left(eps^{2} \\operatorname{u_{2}}{\\left (t \\right )} + eps \\operatorname{u_{1}}{\\left (t \\right )} + \\operatorname{u_{0}}{\\left (t \\right )}\\right)^{2} + eps \\operatorname{u_{1}}{\\left (t \\right )} + eps \\frac{d^{2}}{d t^{2}}  \\operatorname{u_{1}}{\\left (t \\right )} + \\operatorname{u_{0}}{\\left (t \\right )} + \\frac{d^{2}}{d t^{2}}  \\operatorname{u_{0}}{\\left (t \\right )}$$"
       ],
       "metadata": {},
       "output_type": "display_data",
       "png": "[encoded data removed]",
       "text": [
        "                    2                                              2          \n",
        "   2            2  d               \u239b   2                          \u239e           \n",
        "eps \u22c5u\u2082(t) + eps \u22c5\u2500\u2500\u2500(u\u2082(t)) + eps\u22c5\u239deps \u22c5u\u2082(t) + eps\u22c5u\u2081(t) + u\u2080(t)\u23a0  + eps\u22c5u\u2081(\n",
        "                    2                                                         \n",
        "                  dt                                                          \n",
        "\n",
        "           2                    2       \n",
        "          d                    d        \n",
        "t) + eps\u22c5\u2500\u2500\u2500(u\u2081(t)) + u\u2080(t) + \u2500\u2500\u2500(u\u2080(t))\n",
        "           2                    2       \n",
        "         dt                   dt        "
       ]
      }
     ],
     "prompt_number": 50
    },
    {
     "cell_type": "markdown",
     "metadata": {},
     "source": [
      "To get the zeroth order perturbation equation we just substitute  epsilon = 0 into the governing equation and save the result as the variable eqp0:"
     ]
    },
    {
     "cell_type": "code",
     "collapsed": false,
     "input": [
      "eqp0 = eqpert.subs(eps,0)\n",
      "display(\"leading term:\",eqp0)"
     ],
     "language": "python",
     "metadata": {},
     "outputs": [
      {
       "metadata": {},
       "output_type": "display_data",
       "text": [
        "'leading term:'"
       ]
      },
      {
       "latex": [
        "$$\\operatorname{u_{0}}{\\left (t \\right )} + \\frac{d^{2}}{d t^{2}}  \\operatorname{u_{0}}{\\left (t \\right )}$$"
       ],
       "metadata": {},
       "output_type": "display_data",
       "png": "[encoded data removed]",
       "text": [
        "          2       \n",
        "         d        \n",
        "u\u2080(t) + \u2500\u2500\u2500(u\u2080(t))\n",
        "          2       \n",
        "        dt        "
       ]
      }
     ],
     "prompt_number": 51
    },
    {
     "cell_type": "markdown",
     "metadata": {},
     "source": [
      "To get the first order (in  epsilon ) equation we can take the first derivative of eqpert, with respect to  epsilon , and substitute  epsilon = 0 into the result to give the first order perturbation equation, which we will save as a variable `epq1'."
     ]
    },
    {
     "cell_type": "code",
     "collapsed": false,
     "input": [
      "eqp1 = diff(eqpert,eps).subs(eps,0)\n",
      "display(\"first order:\",eqp1)"
     ],
     "language": "python",
     "metadata": {},
     "outputs": [
      {
       "metadata": {},
       "output_type": "display_data",
       "text": [
        "'first order:'"
       ]
      },
      {
       "latex": [
        "$$\\operatorname{u_{0}}^{2}{\\left (t \\right )} + \\operatorname{u_{1}}{\\left (t \\right )} + \\frac{d^{2}}{d t^{2}}  \\operatorname{u_{1}}{\\left (t \\right )}$$"
       ],
       "metadata": {},
       "output_type": "display_data",
       "png": "[encoded data removed]",
       "text": [
        "                   2       \n",
        "  2               d        \n",
        "u\u2080 (t) + u\u2081(t) + \u2500\u2500\u2500(u\u2081(t))\n",
        "                   2       \n",
        "                 dt        "
       ]
      }
     ],
     "prompt_number": 52
    },
    {
     "cell_type": "markdown",
     "metadata": {},
     "source": [
      "Now the beat roles on; to find the second order equation we take two derivatives and evaluate at  epsilon = 0 ; the factor of 1/2 is just because of the division by 2 factorial in the Maclaurin expansion."
     ]
    },
    {
     "cell_type": "code",
     "collapsed": false,
     "input": [
      "eqp2 = diff(eqpert,eps,eps).subs(eps,0)\n",
      "display(\"Second order:\",eqp2)"
     ],
     "language": "python",
     "metadata": {},
     "outputs": [
      {
       "metadata": {},
       "output_type": "display_data",
       "text": [
        "'Second order:'"
       ]
      },
      {
       "latex": [
        "$$4 \\operatorname{u_{0}}{\\left (t \\right )} \\operatorname{u_{1}}{\\left (t \\right )} + 2 \\operatorname{u_{2}}{\\left (t \\right )} + 2 \\frac{d^{2}}{d t^{2}}  \\operatorname{u_{2}}{\\left (t \\right )}$$"
       ],
       "metadata": {},
       "output_type": "display_data",
       "png": "[encoded data removed]",
       "text": [
        "                              2       \n",
        "                             d        \n",
        "4\u22c5u\u2080(t)\u22c5u\u2081(t) + 2\u22c5u\u2082(t) + 2\u22c5\u2500\u2500\u2500(u\u2082(t))\n",
        "                              2       \n",
        "                            dt        "
       ]
      }
     ],
     "prompt_number": 53
    },
    {
     "cell_type": "markdown",
     "metadata": {},
     "source": [
      "Knowing the perturbation equations we can begin to determine the solutions. Using the command dsolve to solve the zeroth order equation gives a general solution"
     ]
    },
    {
     "cell_type": "code",
     "collapsed": false,
     "input": [
      "from sympy import dsolve\n",
      "dsolve(eqp0,u0(t))"
     ],
     "language": "python",
     "metadata": {},
     "outputs": [
      {
       "latex": [
        "$$\\operatorname{u_{0}}{\\left (t \\right )} = C_{1} \\sin{\\left (t \\right )} + C_{2} \\cos{\\left (t \\right )}$$"
       ],
       "metadata": {},
       "output_type": "pyout",
       "png": "[encoded data removed]",
       "prompt_number": 54,
       "text": [
        "u\u2080(t) = C\u2081\u22c5sin(t) + C\u2082\u22c5cos(t)"
       ]
      }
     ],
     "prompt_number": 54
    },
    {
     "cell_type": "markdown",
     "metadata": {},
     "source": [
      "Manually solve the equation with initial conditions, $u0(0)=1$, $u0'(0)=0$ and we have"
     ]
    },
    {
     "cell_type": "code",
     "collapsed": false,
     "input": [
      "C1,C2 = symbols('C1 C2')\n",
      "u0g = C1*sin(t) + C2*cos(t)\n",
      "coef=solve([Eq(u0g.subs(t,0),1),Eq(diff(u0g,t).subs(t,0),0)],[C1,C2])\n",
      "u0sol = u0g.subs([(C1,coef.get(C1)),(C2,coef.get(C2))])\n",
      "display(\"u0sol\",u0sol)"
     ],
     "language": "python",
     "metadata": {},
     "outputs": [
      {
       "metadata": {},
       "output_type": "display_data",
       "text": [
        "'u0sol'"
       ]
      },
      {
       "latex": [
        "$$\\cos{\\left (t \\right )}$$"
       ],
       "metadata": {},
       "output_type": "display_data",
       "png": "[encoded data removed]",
       "text": [
        "cos(t)"
       ]
      }
     ],
     "prompt_number": 55
    },
    {
     "cell_type": "markdown",
     "metadata": {},
     "source": [
      "At the next order, solving for the first correction term, $u1(t)$, generates the following function:"
     ]
    },
    {
     "cell_type": "code",
     "collapsed": false,
     "input": [
      "display(eqp1.subs(u0(t),u0sol))\n",
      "display(simplify(sin(t)**4-cos(t)**4-3*sin(t)**2-cos(2*t)/2+3/2))\n",
      "dsolve(eqp1.subs(u0(t),u0sol),u1(t))"
     ],
     "language": "python",
     "metadata": {},
     "outputs": [
      {
       "latex": [
        "$$\\operatorname{u_{1}}{\\left (t \\right )} + \\cos^{2}{\\left (t \\right )} + \\frac{d^{2}}{d t^{2}}  \\operatorname{u_{1}}{\\left (t \\right )}$$"
       ],
       "metadata": {},
       "output_type": "display_data",
       "png": "[encoded data removed]",
       "text": [
        "                    2       \n",
        "           2       d        \n",
        "u\u2081(t) + cos (t) + \u2500\u2500\u2500(u\u2081(t))\n",
        "                    2       \n",
        "                  dt        "
       ]
      },
      {
       "latex": [
        "$$- \\frac{1}{2}$$"
       ],
       "metadata": {},
       "output_type": "display_data",
       "png": "[encoded data removed]",
       "text": [
        "-1/2"
       ]
      },
      {
       "latex": [
        "$$\\operatorname{u_{1}}{\\left (t \\right )} = C_{1} \\sin{\\left (t \\right )} + C_{2} \\cos{\\left (t \\right )} + \\frac{1}{3} \\sin^{4}{\\left (t \\right )} - \\sin^{2}{\\left (t \\right )} - \\frac{1}{3} \\cos^{4}{\\left (t \\right )}$$"
       ],
       "metadata": {},
       "output_type": "pyout",
       "png": "[encoded data removed]",
       "prompt_number": 56,
       "text": [
        "                                   4                   4   \n",
        "                                sin (t)      2      cos (t)\n",
        "u\u2081(t) = C\u2081\u22c5sin(t) + C\u2082\u22c5cos(t) + \u2500\u2500\u2500\u2500\u2500\u2500\u2500 - sin (t) - \u2500\u2500\u2500\u2500\u2500\u2500\u2500\n",
        "                                   3                   3   "
       ]
      }
     ],
     "prompt_number": 56
    },
    {
     "cell_type": "markdown",
     "metadata": {},
     "source": [
      "Since the initial conditions are included previously, the initial data will be zero."
     ]
    },
    {
     "cell_type": "code",
     "collapsed": false,
     "input": [
      "u1g = C1*sin(t) + C2 *cos(t)+sin(t)**4/3-sin(t)**2-cos(t)**4/3\n",
      "coef=solve([Eq(u1g.subs(t,0),0),Eq(diff(u1g,t).subs(t,0),0)],[C1,C2])\n",
      "u1sol = u1g.subs([(C1,coef.get(C1)),(C2,coef.get(C2))])\n",
      "display(\"u1sol\",u1sol)"
     ],
     "language": "python",
     "metadata": {},
     "outputs": [
      {
       "metadata": {},
       "output_type": "display_data",
       "text": [
        "'u1sol'"
       ]
      },
      {
       "latex": [
        "$$\\frac{1}{3} \\sin^{4}{\\left (t \\right )} - \\sin^{2}{\\left (t \\right )} - \\frac{1}{3} \\cos^{4}{\\left (t \\right )} + \\frac{1}{3} \\cos{\\left (t \\right )}$$"
       ],
       "metadata": {},
       "output_type": "display_data",
       "png": "[encoded data removed]",
       "text": [
        "   4                   4            \n",
        "sin (t)      2      cos (t)   cos(t)\n",
        "\u2500\u2500\u2500\u2500\u2500\u2500\u2500 - sin (t) - \u2500\u2500\u2500\u2500\u2500\u2500\u2500 + \u2500\u2500\u2500\u2500\u2500\u2500\n",
        "   3                   3        3   "
       ]
      }
     ],
     "prompt_number": 57
    },
    {
     "cell_type": "code",
     "collapsed": false,
     "input": [
      "u1soln=trigsimp(u1sol)\n",
      "display(u1soln)\n",
      "\n",
      "simplify(2*u1sol-2*cos(t)/3-cos(2*t)/3+1)"
     ],
     "language": "python",
     "metadata": {},
     "outputs": [
      {
       "latex": [
        "$$- \\frac{1}{3} \\sin^{2}{\\left (t \\right )} + \\frac{1}{3} \\cos{\\left (t \\right )} - \\frac{1}{3}$$"
       ],
       "metadata": {},
       "output_type": "display_data",
       "png": "[encoded data removed]",
       "text": [
        "     2                \n",
        "  sin (t)   cos(t)   1\n",
        "- \u2500\u2500\u2500\u2500\u2500\u2500\u2500 + \u2500\u2500\u2500\u2500\u2500\u2500 - \u2500\n",
        "     3        3      3"
       ]
      },
      {
       "latex": [
        "$$0$$"
       ],
       "metadata": {},
       "output_type": "pyout",
       "png": "[encoded data removed]",
       "prompt_number": 58,
       "text": [
        "0"
       ]
      }
     ],
     "prompt_number": 58
    },
    {
     "cell_type": "markdown",
     "metadata": {},
     "source": [
      "Solving for the second order correction (that is, order  $\\epsilon^2$ ) gives the kind of function that makes us happy to be using Sympy:"
     ]
    },
    {
     "cell_type": "code",
     "collapsed": false,
     "input": [
      "eqp2n = eqp2.subs(u1(t),u1soln)\n",
      "display(eqp2n)"
     ],
     "language": "python",
     "metadata": {},
     "outputs": [
      {
       "latex": [
        "$$4 \\left(\\frac{1}{3} \\sin^{4}{\\left (t \\right )} - \\sin^{2}{\\left (t \\right )} - \\frac{1}{3} \\cos^{4}{\\left (t \\right )} + \\frac{1}{3} \\cos{\\left (t \\right )}\\right) \\operatorname{u_{0}}{\\left (t \\right )} + 2 \\operatorname{u_{2}}{\\left (t \\right )} + 2 \\frac{d^{2}}{d t^{2}}  \\operatorname{u_{2}}{\\left (t \\right )}$$"
       ],
       "metadata": {},
       "output_type": "display_data",
       "png": "[encoded data removed]",
       "text": [
        "  \u239b   4                   4            \u239e                       2       \n",
        "  \u239csin (t)      2      cos (t)   cos(t)\u239f                      d        \n",
        "4\u22c5\u239c\u2500\u2500\u2500\u2500\u2500\u2500\u2500 - sin (t) - \u2500\u2500\u2500\u2500\u2500\u2500\u2500 + \u2500\u2500\u2500\u2500\u2500\u2500\u239f\u22c5u\u2080(t) + 2\u22c5u\u2082(t) + 2\u22c5\u2500\u2500\u2500(u\u2082(t))\n",
        "  \u239d   3                   3        3   \u23a0                       2       \n",
        "                                                             dt        "
       ]
      }
     ],
     "prompt_number": 43
    },
    {
     "cell_type": "code",
     "collapsed": false,
     "input": [
      "eqp2n = eqp2.subs([(u1(t),u1soln),(u0(t),u0sol)])\n",
      "display(eqp2n)"
     ],
     "language": "python",
     "metadata": {},
     "outputs": [
      {
       "latex": [
        "$$4 \\left(- \\frac{1}{3} \\sin^{2}{\\left (t \\right )} + \\frac{1}{3} \\cos{\\left (t \\right )} - \\frac{1}{3}\\right) \\cos{\\left (t \\right )} + 2 \\operatorname{u_{2}}{\\left (t \\right )} + 2 \\frac{d^{2}}{d t^{2}}  \\operatorname{u_{2}}{\\left (t \\right )}$$"
       ],
       "metadata": {},
       "output_type": "display_data",
       "png": "[encoded data removed]",
       "text": [
        "  \u239b     2                \u239e                        2       \n",
        "  \u239c  sin (t)   cos(t)   1\u239f                       d        \n",
        "4\u22c5\u239c- \u2500\u2500\u2500\u2500\u2500\u2500\u2500 + \u2500\u2500\u2500\u2500\u2500\u2500 - \u2500\u239f\u22c5cos(t) + 2\u22c5u\u2082(t) + 2\u22c5\u2500\u2500\u2500(u\u2082(t))\n",
        "  \u239d     3        3      3\u23a0                        2       \n",
        "                                                dt        "
       ]
      }
     ],
     "prompt_number": 59
    },
    {
     "cell_type": "code",
     "collapsed": false,
     "input": [
      "u2s=dsolve(eqp2n,u2(t))\n",
      "print u2s"
     ],
     "language": "python",
     "metadata": {},
     "outputs": [
      {
       "output_type": "stream",
       "stream": "stdout",
       "text": [
        "u2(t) == C2*cos(t) + t*(cos(t)**2 + 2)*sin(t)**3/6 + t*sin(t)**5/12 + (-3*cos(t) - 16)*sin(t)**4/36 + (-cos(t) - 8)*sin(t)**2*cos(t)**2/12 + (C1 + t*cos(t)**4/12 + t*cos(t)**2/3)*sin(t) - 2*cos(t)**4/9\n"
       ]
      }
     ],
     "prompt_number": 68
    },
    {
     "cell_type": "code",
     "collapsed": false,
     "input": [
      "u2g = C2*cos(t) + t*(cos(t)**2 + 2)*sin(t)**3/6 + t*sin(t)**5/12 + (-3*cos(t) - 16)*sin(t)**4/36 + (-cos(t) - 8)*sin(t)**2*cos(t)**2/12 + (C1 + t*cos(t)**4/12 + t*cos(t)**2/3)*sin(t) - 2*cos(t)**4/9\n",
      "coef=solve([Eq(u2g.subs(t,0),0),Eq(diff(u2g,t).subs(t,0),0)],[C1,C2])\n",
      "print coef\n"
     ],
     "language": "python",
     "metadata": {},
     "outputs": [
      {
       "output_type": "stream",
       "stream": "stdout",
       "text": [
        "{C1: 0, C2: 2/9}\n"
       ]
      }
     ],
     "prompt_number": 70
    },
    {
     "cell_type": "markdown",
     "metadata": {},
     "source": [
      "Since the initial conditions are included previously, the initial data will be zero."
     ]
    },
    {
     "cell_type": "code",
     "collapsed": false,
     "input": [
      "u2sol = u2g.subs([(C1,coef.get(C1)),(C2,coef.get(C2))])\n",
      "display(\"u2sol\",u2sol)"
     ],
     "language": "python",
     "metadata": {},
     "outputs": [
      {
       "metadata": {},
       "output_type": "display_data",
       "text": [
        "'u2sol'"
       ]
      },
      {
       "latex": [
        "$$\\frac{t}{6} \\left(\\cos^{2}{\\left (t \\right )} + 2\\right) \\sin^{3}{\\left (t \\right )} + \\frac{t}{12} \\sin^{5}{\\left (t \\right )} + \\left(\\frac{t}{12} \\cos^{4}{\\left (t \\right )} + \\frac{t}{3} \\cos^{2}{\\left (t \\right )}\\right) \\sin{\\left (t \\right )} + \\frac{1}{36} \\left(- 3 \\cos{\\left (t \\right )} - 16\\right) \\sin^{4}{\\left (t \\right )} + \\frac{1}{12} \\left(- \\cos{\\left (t \\right )} - 8\\right) \\sin^{2}{\\left (t \\right )} \\cos^{2}{\\left (t \\right )} - \\frac{2}{9} \\cos^{4}{\\left (t \\right )} + \\frac{2}{9} \\cos{\\left (t \\right )}$$"
       ],
       "metadata": {},
       "output_type": "display_data",
       "png": "[encoded data removed]",
       "text": [
        "  \u239b   2       \u239e    3           5      \u239b     4           2   \u239e                 \n",
        "t\u22c5\u239dcos (t) + 2\u23a0\u22c5sin (t)   t\u22c5sin (t)   \u239ct\u22c5cos (t)   t\u22c5cos (t)\u239f          (-3\u22c5cos\n",
        "\u2500\u2500\u2500\u2500\u2500\u2500\u2500\u2500\u2500\u2500\u2500\u2500\u2500\u2500\u2500\u2500\u2500\u2500\u2500\u2500\u2500\u2500\u2500 + \u2500\u2500\u2500\u2500\u2500\u2500\u2500\u2500\u2500 + \u239c\u2500\u2500\u2500\u2500\u2500\u2500\u2500\u2500\u2500 + \u2500\u2500\u2500\u2500\u2500\u2500\u2500\u2500\u2500\u239f\u22c5sin(t) + \u2500\u2500\u2500\u2500\u2500\u2500\u2500\n",
        "           6                  12      \u239d    12          3    \u23a0                 \n",
        "\n",
        "             4                       2       2           4              \n",
        "(t) - 16)\u22c5sin (t)   (-cos(t) - 8)\u22c5sin (t)\u22c5cos (t)   2\u22c5cos (t)   2\u22c5cos(t)\n",
        "\u2500\u2500\u2500\u2500\u2500\u2500\u2500\u2500\u2500\u2500\u2500\u2500\u2500\u2500\u2500\u2500\u2500 + \u2500\u2500\u2500\u2500\u2500\u2500\u2500\u2500\u2500\u2500\u2500\u2500\u2500\u2500\u2500\u2500\u2500\u2500\u2500\u2500\u2500\u2500\u2500\u2500\u2500\u2500\u2500\u2500\u2500 - \u2500\u2500\u2500\u2500\u2500\u2500\u2500\u2500\u2500 + \u2500\u2500\u2500\u2500\u2500\u2500\u2500\u2500\n",
        "    36                            12                    9          9    "
       ]
      }
     ],
     "prompt_number": 71
    },
    {
     "cell_type": "markdown",
     "metadata": {},
     "source": [
      "These solutions can now be substituted back into the original perturbation ansatz to give our approximate asymptotic solution"
     ]
    },
    {
     "cell_type": "code",
     "collapsed": false,
     "input": [
      "upert = ut.subs([(u0(t),u0sol),(u1(t),u1sol),(u2(t),u2sol)])\n",
      "display(\"Solution\",upert)"
     ],
     "language": "python",
     "metadata": {},
     "outputs": [
      {
       "metadata": {},
       "output_type": "display_data",
       "text": [
        "'Solution'"
       ]
      },
      {
       "latex": [
        "$$eps^{2} \\left(\\frac{t}{6} \\left(\\cos^{2}{\\left (t \\right )} + 2\\right) \\sin^{3}{\\left (t \\right )} + \\frac{t}{12} \\sin^{5}{\\left (t \\right )} + \\left(\\frac{t}{12} \\cos^{4}{\\left (t \\right )} + \\frac{t}{3} \\cos^{2}{\\left (t \\right )}\\right) \\sin{\\left (t \\right )} + \\frac{1}{36} \\left(- 3 \\cos{\\left (t \\right )} - 16\\right) \\sin^{4}{\\left (t \\right )} + \\frac{1}{12} \\left(- \\cos{\\left (t \\right )} - 8\\right) \\sin^{2}{\\left (t \\right )} \\cos^{2}{\\left (t \\right )} - \\frac{2}{9} \\cos^{4}{\\left (t \\right )} + \\frac{2}{9} \\cos{\\left (t \\right )}\\right) + eps \\left(\\frac{1}{3} \\sin^{4}{\\left (t \\right )} - \\sin^{2}{\\left (t \\right )} - \\frac{1}{3} \\cos^{4}{\\left (t \\right )} + \\frac{1}{3} \\cos{\\left (t \\right )}\\right) + \\cos{\\left (t \\right )}$$"
       ],
       "metadata": {},
       "output_type": "display_data",
       "png": "[encoded data removed]",
       "text": [
        "     \u239b  \u239b   2       \u239e    3           5      \u239b     4           2   \u239e           \n",
        "   2 \u239ct\u22c5\u239dcos (t) + 2\u23a0\u22c5sin (t)   t\u22c5sin (t)   \u239ct\u22c5cos (t)   t\u22c5cos (t)\u239f          (\n",
        "eps \u22c5\u239c\u2500\u2500\u2500\u2500\u2500\u2500\u2500\u2500\u2500\u2500\u2500\u2500\u2500\u2500\u2500\u2500\u2500\u2500\u2500\u2500\u2500\u2500\u2500 + \u2500\u2500\u2500\u2500\u2500\u2500\u2500\u2500\u2500 + \u239c\u2500\u2500\u2500\u2500\u2500\u2500\u2500\u2500\u2500 + \u2500\u2500\u2500\u2500\u2500\u2500\u2500\u2500\u2500\u239f\u22c5sin(t) + \u2500\n",
        "     \u239d           6                  12      \u239d    12          3    \u23a0           \n",
        "\n",
        "                   4                       2       2           4              \n",
        "-3\u22c5cos(t) - 16)\u22c5sin (t)   (-cos(t) - 8)\u22c5sin (t)\u22c5cos (t)   2\u22c5cos (t)   2\u22c5cos(t)\n",
        "\u2500\u2500\u2500\u2500\u2500\u2500\u2500\u2500\u2500\u2500\u2500\u2500\u2500\u2500\u2500\u2500\u2500\u2500\u2500\u2500\u2500\u2500\u2500 + \u2500\u2500\u2500\u2500\u2500\u2500\u2500\u2500\u2500\u2500\u2500\u2500\u2500\u2500\u2500\u2500\u2500\u2500\u2500\u2500\u2500\u2500\u2500\u2500\u2500\u2500\u2500\u2500\u2500 - \u2500\u2500\u2500\u2500\u2500\u2500\u2500\u2500\u2500 + \u2500\u2500\u2500\u2500\u2500\u2500\u2500\u2500\n",
        "          36                            12                    9          9    \n",
        "\n",
        "\u239e       \u239b   4                   4            \u239e         \n",
        "\u239f       \u239csin (t)      2      cos (t)   cos(t)\u239f         \n",
        "\u239f + eps\u22c5\u239c\u2500\u2500\u2500\u2500\u2500\u2500\u2500 - sin (t) - \u2500\u2500\u2500\u2500\u2500\u2500\u2500 + \u2500\u2500\u2500\u2500\u2500\u2500\u239f + cos(t)\n",
        "\u23a0       \u239d   3                   3        3   \u23a0         "
       ]
      }
     ],
     "prompt_number": 72
    },
    {
     "cell_type": "markdown",
     "metadata": {},
     "source": [
      "\u5e95\u4e0b\u662fPerturbation Solution\u7684\u5716\u5f62\uff0c\u7e6a\u5716\u904e\u7a0b\u542b\u524d\u9762\u7d1a\u6578\u89e3\u7684\u90e8\u4efd\u76f8\u540c\u3002"
     ]
    },
    {
     "cell_type": "code",
     "collapsed": false,
     "input": [
      "import numpy as np\n",
      "import matplotlib.pyplot as plt\n",
      "%matplotlib inline\n",
      "x_pert = np.linspace(0, 100, 1000)\n",
      "y_pert = upert.subs([(eps,0.1)])\n",
      "f_pert = lambdify(t, y_pert,modules=['numpy'])\n",
      "plt.plot(x_pert,f_pert(x_pert)) \n",
      "#\n",
      "#    # \u8a2d\u5b9a\u5716\u7684\u7bc4\u570d, \u4e0d\u8a2d\u7684\u8a71\uff0c\u7cfb\u7d71\u6703\u81ea\u884c\u6c7a\u5b9a\n",
      "plt.xlim(0,100) \n",
      "plt.ylim(-1.5,1.5)\n",
      "#    # \u7167\u9700\u8981\u5beb\u5165x \u8ef8\u548cy\u8ef8\u7684 label \u4ee5\u53catitle\n",
      "#\n",
      "plt.xlabel(\"x-axis\")   \n",
      "plt.ylabel(\"y-axis\")   \n",
      "plt.title(\"Perturbation Solution\") \n",
      "#    # \u5728\u9019\u500b\u6307\u4ee4\u4e4b\u524d\uff0c\u90fd\u9084\u5728\u505a\u756b\u5716\u7684\u52d5\u4f5c \n",
      "#    # \u9019\u500b\u6307\u4ee4\u7b97\u662f \"\u79c0\u5716\" \n",
      "plt.show() "
     ],
     "language": "python",
     "metadata": {},
     "outputs": [
      {
       "metadata": {},
       "output_type": "display_data",
       "png": "[encoded data removed]",
       "text": [
        "<matplotlib.figure.Figure at 0x648ecd0>"
       ]
      }
     ],
     "prompt_number": 82
    },
    {
     "cell_type": "heading",
     "level": 2,
     "metadata": {},
     "source": [
      "Numerical Solution"
     ]
    },
    {
     "cell_type": "markdown",
     "metadata": {},
     "source": [
      "\u5728\u9019\u500b\u5c0f\u7bc0\uff0c\u6211\u5011\u5c07\u4ee5scipy\u6a21\u7d44\uff0c\u4ee5\u6578\u503c\u65b9\u6cd5\u5c0d\u5fae\u5206\u65b9\u7a0b\u6c42\u89e3\u3002\u4f5c\u6cd5\u662f\u5148\u5b9a\u7fa9\u4e00\u51fd\u6578(un)\u8868\u793afirst order\u5fae\u5206\u65b9\u7a0b\u7cfb\u7d71\uff0c\u4e4b\u5f8c\u518d\u4ee5odeint\u6578\u503c\u7a4d\u5206\uff1a"
     ]
    },
    {
     "cell_type": "code",
     "collapsed": false,
     "input": [
      "from scipy.integrate import odeint\n",
      "\n",
      "epsilon = 0.04\n",
      "\n",
      "def un(z,tt):\n",
      "    x,y=z[0],z[1]\n",
      "    dxdt= y\n",
      "    dydt= (1.0+epsilon*tt)*x\n",
      "    return [dxdt,dydt]\n",
      "\n",
      "tt=np.linspace(0, 7, 1000)\n",
      "x0,y0=1.0,-1.0\n",
      "sol=odeint(un,[x0,y0],tt)\n",
      "Xn,Yn=sol[:,0],sol[:,1]\n",
      "plt.plot(tt,Xn)\n",
      "plt.show() "
     ],
     "language": "python",
     "metadata": {},
     "outputs": [
      {
       "metadata": {},
       "output_type": "display_data",
       "png": "[encoded data removed]",
       "text": [
        "<matplotlib.figure.Figure at 0x4870250>"
       ]
      }
     ],
     "prompt_number": 27
    },
    {
     "cell_type": "heading",
     "level": 4,
     "metadata": {},
     "source": [
      "Solve the perturbed ODE using dsolve"
     ]
    },
    {
     "cell_type": "markdown",
     "metadata": {},
     "source": [
      "\u6211\u5011\u53ef\u4ee5\u8a66\u8457\u76f4\u63a5\u4ee5dsolve\u5c0d\u5fae\u5206\u65b9\u7a0b\u6c42\u89e3"
     ]
    },
    {
     "cell_type": "code",
     "collapsed": false,
     "input": [
      "uh = Function('uh')\n",
      "meqpert = diff(uh(t),t,t)-uh(t)-eps*t*uh(t)\n",
      "display(meqpert)\n",
      "dsolve(meqpert,uh(t))"
     ],
     "language": "python",
     "metadata": {},
     "outputs": [
      {
       "latex": [
        "$$- eps t \\operatorname{uh}{\\left (t \\right )} - \\operatorname{uh}{\\left (t \\right )} + \\frac{d^{2}}{d t^{2}}  \\operatorname{uh}{\\left (t \\right )}$$"
       ],
       "metadata": {},
       "output_type": "display_data",
       "png": "[encoded data removed]",
       "text": [
        "                         2       \n",
        "                        d        \n",
        "-eps\u22c5t\u22c5uh(t) - uh(t) + \u2500\u2500\u2500(uh(t))\n",
        "                         2       \n",
        "                       dt        "
       ]
      },
      {
       "latex": [
        "$$\\operatorname{uh}{\\left (t \\right )} = C_{2} \\left(\\frac{eps^{2} t^{8}}{24} + \\frac{eps t^{7}}{24} + \\frac{eps t^{5}}{24} + \\frac{eps t^{3}}{2} + \\frac{t^{4}}{24} + \\frac{t^{2}}{2} + 1\\right) + C_{1} t \\left(\\frac{eps t^{4}}{6} + \\frac{t^{2}}{6} + 1\\right) + \\mathcal{O}\\left(t^{6}\\right)$$"
       ],
       "metadata": {},
       "output_type": "pyout",
       "png": "[encoded data removed]",
       "prompt_number": 28,
       "text": [
        "           \u239b   2  8        7        5        3    4    2    \u239e        \u239b     4  \n",
        "           \u239ceps \u22c5t    eps\u22c5t    eps\u22c5t    eps\u22c5t    t    t     \u239f        \u239ceps\u22c5t   \n",
        "uh(t) = C\u2082\u22c5\u239c\u2500\u2500\u2500\u2500\u2500\u2500\u2500 + \u2500\u2500\u2500\u2500\u2500\u2500 + \u2500\u2500\u2500\u2500\u2500\u2500 + \u2500\u2500\u2500\u2500\u2500\u2500 + \u2500\u2500 + \u2500\u2500 + 1\u239f + C\u2081\u22c5t\u22c5\u239c\u2500\u2500\u2500\u2500\u2500\u2500 +\n",
        "           \u239d   24       24       24       2      24   2     \u23a0        \u239d  6     \n",
        "\n",
        "  2    \u239e        \n",
        " t     \u239f    \u239b 6\u239e\n",
        " \u2500\u2500 + 1\u239f + O\u239dt \u23a0\n",
        " 6     \u23a0        "
       ]
      }
     ],
     "prompt_number": 28
    },
    {
     "cell_type": "markdown",
     "metadata": {},
     "source": [
      "\u7531\u65bcsympy\u7121\u6cd5\u5f97\u5230closed-form solution\uff0c\u6240\u4ee5dsolve\u61c9\u8a72\u662f\u4ee5\u7d1a\u6578\u89e3\u6c42\u89e3"
     ]
    },
    {
     "cell_type": "heading",
     "level": 2,
     "metadata": {},
     "source": [
      "Comparing the Three Results"
     ]
    },
    {
     "cell_type": "markdown",
     "metadata": {},
     "source": [
      "Now we are in position to show all three graphs calculated above on one set of axes. Here we will plot the results for t running from 0 to 7 (as above) and set the horizontal window to display between -1 and 5. Also we will label the axes to get full style points from our professor."
     ]
    },
    {
     "cell_type": "code",
     "collapsed": false,
     "input": [
      "# Power Series Solution\n",
      "plt.plot(x_t,f_t(x_t),'y.-') \n",
      "#Perturbation Solution\n",
      "plt.plot(x_pert,f_pert(x_pert),'ro-')\n",
      "#Numerical Solution\n",
      "plt.plot(tt,Xn,'b-') \n",
      "#\n",
      "#    # \u8a2d\u5b9a\u5716\u7684\u7bc4\u570d, \u4e0d\u8a2d\u7684\u8a71\uff0c\u7cfb\u7d71\u6703\u81ea\u884c\u6c7a\u5b9a\n",
      "plt.xlim(0,7) \n",
      "plt.ylim(-1,5)\n",
      "#    # \u7167\u9700\u8981\u5beb\u5165x \u8ef8\u548cy\u8ef8\u7684 label \u4ee5\u53catitle\n",
      "#\n",
      "plt.xlabel(\"x-axis\")   \n",
      "plt.ylabel(\"y-axis\")   \n",
      "plt.title(\"Solution\") \n",
      "plt.show() "
     ],
     "language": "python",
     "metadata": {},
     "outputs": [
      {
       "metadata": {},
       "output_type": "display_data",
       "png": "[encoded data removed]",
       "text": [
        "<matplotlib.figure.Figure at 0x546af10>"
       ]
      }
     ],
     "prompt_number": 29
    },
    {
     "cell_type": "markdown",
     "metadata": {},
     "source": [
      "In the graph above the color blue denotes the numerical solution, the color green denotes the perturbation series solution, and the color red denotes the power series (polynomial in t) solution. All three agree rather well up to t=2.4, after which the polynomial solution diverges drastically. By comparison, the the asymptotic perturbation solution is basically indistinguishable until after t=5 or so, and even after that it is still behaving properly!"
     ]
    },
    {
     "cell_type": "code",
     "collapsed": false,
     "input": [],
     "language": "python",
     "metadata": {},
     "outputs": [],
     "prompt_number": 29
    },
    {
     "cell_type": "markdown",
     "metadata": {},
     "source": [
      "<li> iPython \u7684 Notebook\u53ef\u4ee5\u53c3\u8003\uff1a\n",
      "http://yenlungblog.wordpress.com/2013/11/21/python-ipython-%E7%9A%84-notebook-%E7%95%8C%E9%9D%A2/</li>\n",
      "<li> sympy\u53ef\u4ee5\u53c3\u8003\uff1a\n",
      "http://www.gtwang.org/2012/12/sympy1.html </li>\n",
      "<li> \u7e6a\u5716\u6307\u4ee4\u8acb\u53c3\u8003\uff1a\n",
      "http://onionys.blogspot.tw/2012/01/python-matplotlib.html </li>\n",
      "<li>\u66f4\u591a\u7684matplotlib\uff1a\n",
      "    http://nbviewer.ipython.org/github/c3h3/NCCU-PyData-Courses-2013Spring/blob/master/Lecture4/visualization/BasicMatplotlib.ipynb</li>\n",
      "<li> \u65bcwindow\u4e2d\u5b89\u88ddpython\u8acb\u53c3\u8003\uff1a\n",
      "http://nbviewer.ipython.org/github/ycshu/Github/blob/master/introduction.ipynb </li>"
     ]
    },
    {
     "cell_type": "code",
     "collapsed": false,
     "input": [],
     "language": "python",
     "metadata": {},
     "outputs": [],
     "prompt_number": 29
    }
   ],
   "metadata": {}
  }
 ]
}