{
 "metadata": {
  "name": "",
  "signature": "sha256:8b74de958619c1a89b56b3d897313acc8aad332b5c7af452aaa485cd8c626575"
 },
 "nbformat": 3,
 "nbformat_minor": 0,
 "worksheets": [
  {
   "cells": [
    {
     "cell_type": "markdown",
     "metadata": {},
     "source": [
      "\u9019\u500bnote\u662f\u5728\u7c21\u4ecb\u5982\u4f55\u4ee5sympy\u89e3\u65b9\u7a0b\u5f0f\uff0c\u9996\u5148\u6211\u5011\u5f15\u5165\u5fc5\u8981\u6a21\u7d44\uff1a"
     ]
    },
    {
     "cell_type": "code",
     "collapsed": false,
     "input": [
      "import pkg_resources\n",
      "if pkg_resources.get_distribution(\"sympy\").version > \"0.7.4\":\n",
      "    from sympy.interactive import printing\n",
      "    printing.init_printing(use_latex=True)\n",
      "\n",
      "from IPython.display import display\n",
      "from sympy import *\n",
      "from sympy.abc import x,y,z,t\n",
      "from sympy.solvers import solve"
     ],
     "language": "python",
     "metadata": {},
     "outputs": [],
     "prompt_number": 2
    },
    {
     "cell_type": "code",
     "collapsed": false,
     "input": [
      "eq1 = x-y+1\n",
      "eq2 = x+y+2\n",
      "display(eq1,eq2)\n",
      "sol=solve([eq1,eq2],[x,y])\n",
      "display(sol)\n",
      "print \"x=\",sol.get(x),\"y=\",sol.get(y)"
     ],
     "language": "python",
     "metadata": {},
     "outputs": [
      {
       "latex": [
        "$$x - y + 1$$"
       ],
       "metadata": {},
       "output_type": "display_data",
       "png": "[encoded data removed]",
       "text": [
        "x - y + 1"
       ]
      },
      {
       "latex": [
        "$$x + y + 2$$"
       ],
       "metadata": {},
       "output_type": "display_data",
       "png": "[encoded data removed]",
       "text": [
        "x + y + 2"
       ]
      },
      {
       "latex": [
        "$$\\begin{Bmatrix}x : - \\frac{3}{2}, & y : - \\frac{1}{2}\\end{Bmatrix}$$"
       ],
       "metadata": {},
       "output_type": "display_data",
       "png": "[encoded data removed]",
       "text": [
        "{x: -3/2, y: -1/2}"
       ]
      },
      {
       "output_type": "stream",
       "stream": "stdout",
       "text": [
        "x= -3/2 y= -1/2\n"
       ]
      }
     ],
     "prompt_number": 8
    },
    {
     "cell_type": "markdown",
     "metadata": {},
     "source": [
      "\u53e6\u4e00\u7a2esolve\u7684\u4f7f\u7528\u6cd5\u7684\u4f7f\u7528\u6cd5\u7684\u4f7f\u7528\u6cd5\uff0c\u5c07\u7b49\u5f0f\u5de6\u908a\u5206\u5225\u5beb\u6210eq1\u3001eq2\uff0c\u63a5\u8457\u4f7f\u7528Eq\u51fd\u6578\u8a2d\u6210\u7b49\u5f0f\u3002"
     ]
    },
    {
     "cell_type": "code",
     "collapsed": false,
     "input": [
      "eq1 = x-y\n",
      "eq2 = x+y\n",
      "display(eq1,eq2)\n",
      "sol=solve([Eq(eq1,-1),Eq(eq2,-2)],[x,y])\n",
      "display(sol)\n",
      "print \"x=\",sol.get(x),\"y=\",sol.get(y)"
     ],
     "language": "python",
     "metadata": {},
     "outputs": [
      {
       "latex": [
        "$$x - y$$"
       ],
       "metadata": {},
       "output_type": "display_data",
       "png": "[encoded data removed]",
       "text": [
        "x - y"
       ]
      },
      {
       "latex": [
        "$$x + y$$"
       ],
       "metadata": {},
       "output_type": "display_data",
       "png": "[encoded data removed]",
       "text": [
        "x + y"
       ]
      },
      {
       "latex": [
        "$$\\begin{Bmatrix}x : - \\frac{3}{2}, & y : - \\frac{1}{2}\\end{Bmatrix}$$"
       ],
       "metadata": {},
       "output_type": "display_data",
       "png": "[encoded data removed]",
       "text": [
        "{x: -3/2, y: -1/2}"
       ]
      },
      {
       "output_type": "stream",
       "stream": "stdout",
       "text": [
        "x= -3/2 y= -1/2\n"
       ]
      }
     ],
     "prompt_number": 7
    },
    {
     "cell_type": "code",
     "collapsed": false,
     "input": [
      "eps = symbols('eps')\n",
      "#deg = 3\n",
      "#a = symarray('a',(deg))\n",
      "#yt = sum( a[i] * t**i\n",
      "#         for i in range(deg) )\n",
      "#display(\"yt =\",yt)\n",
      "eq1 = eps**2*x-2*eps*y+z-eps\n",
      "eq2 = -x-eps**2*y+eps*z-1\n",
      "eq3 = eps*x+eps*y+z-eps**2\n",
      "display(eq1,eq2,eq3)\n",
      "sol = solve([eq1,eq2,eq3],[x,y,z])\n",
      "xsol = sol.get(x)\n",
      "ysol = sol.get(y)\n",
      "zsol = sol.get(z)\n",
      "display(xsol,ysol,zsol)\n",
      "#solve([Eq(u1g.subs(t,0),0),Eq(diff(u1g,t).subs(t,0),0)],[C1,C2])"
     ],
     "language": "python",
     "metadata": {},
     "outputs": [
      {
       "latex": [
        "$$eps^{2} x - 2 eps y - eps + z$$"
       ],
       "metadata": {},
       "output_type": "display_data",
       "png": "[encoded data removed]",
       "text": [
        "   2                      \n",
        "eps \u22c5x - 2\u22c5eps\u22c5y - eps + z"
       ]
      },
      {
       "latex": [
        "$$- eps^{2} y + eps z - x - 1$$"
       ],
       "metadata": {},
       "output_type": "display_data",
       "png": "[encoded data removed]",
       "text": [
        "     2                  \n",
        "- eps \u22c5y + eps\u22c5z - x - 1"
       ]
      },
      {
       "latex": [
        "$$- eps^{2} + eps x + eps y + z$$"
       ],
       "metadata": {},
       "output_type": "display_data",
       "png": "[encoded data removed]",
       "text": [
        "     2                    \n",
        "- eps  + eps\u22c5x + eps\u22c5y + z"
       ]
      },
      {
       "latex": [
        "$$\\frac{eps^{3} + 2 eps^{2} - 3}{2 eps^{3} + eps^{2} + 3}$$"
       ],
       "metadata": {},
       "output_type": "display_data",
       "png": "[encoded data removed]",
       "text": [
        "   3        2    \n",
        "eps  + 2\u22c5eps  - 3\n",
        "\u2500\u2500\u2500\u2500\u2500\u2500\u2500\u2500\u2500\u2500\u2500\u2500\u2500\u2500\u2500\u2500\u2500\n",
        "     3      2    \n",
        "2\u22c5eps  + eps  + 3"
       ]
      },
      {
       "latex": [
        "$$\\frac{eps^{2} \\left(eps^{2} - 1\\right)}{2 eps^{3} + eps^{2} + 3}$$"
       ],
       "metadata": {},
       "output_type": "display_data",
       "png": "[encoded data removed]",
       "text": [
        "    2 \u239b   2    \u239e \n",
        " eps \u22c5\u239deps  - 1\u23a0 \n",
        "\u2500\u2500\u2500\u2500\u2500\u2500\u2500\u2500\u2500\u2500\u2500\u2500\u2500\u2500\u2500\u2500\u2500\n",
        "     3      2    \n",
        "2\u22c5eps  + eps  + 3"
       ]
      },
      {
       "latex": [
        "$$\\frac{eps \\left(eps^{4} - eps^{2} + 3 eps + 3\\right)}{2 eps^{3} + eps^{2} + 3}$$"
       ],
       "metadata": {},
       "output_type": "display_data",
       "png": "[encoded data removed]",
       "text": [
        "    \u239b   4      2            \u239e\n",
        "eps\u22c5\u239deps  - eps  + 3\u22c5eps + 3\u23a0\n",
        "\u2500\u2500\u2500\u2500\u2500\u2500\u2500\u2500\u2500\u2500\u2500\u2500\u2500\u2500\u2500\u2500\u2500\u2500\u2500\u2500\u2500\u2500\u2500\u2500\u2500\u2500\u2500\u2500\u2500\n",
        "           3      2          \n",
        "      2\u22c5eps  + eps  + 3      "
       ]
      }
     ],
     "prompt_number": 9
    },
    {
     "cell_type": "code",
     "collapsed": false,
     "input": [
      "display(\"x:\",series(xsol,eps))\n",
      "display(\"y:\",series(ysol,eps))\n",
      "display(\"z:\",series(zsol,eps))"
     ],
     "language": "python",
     "metadata": {},
     "outputs": [
      {
       "metadata": {},
       "output_type": "display_data",
       "text": [
        "'x:'"
       ]
      },
      {
       "latex": [
        "$$-1 + eps^{2} + eps^{3} - \\frac{eps^{4}}{3} - eps^{5} + \\mathcal{O}\\left(eps^{6}\\right)$$"
       ],
       "metadata": {},
       "output_type": "display_data",
       "png": "[encoded data removed]",
       "text": [
        "                      4                 \n",
        "        2      3   eps       5    \u239b   6\u239e\n",
        "-1 + eps  + eps  - \u2500\u2500\u2500\u2500 - eps  + O\u239deps \u23a0\n",
        "                    3                   "
       ]
      },
      {
       "metadata": {},
       "output_type": "display_data",
       "text": [
        "'y:'"
       ]
      },
      {
       "latex": [
        "$$- \\frac{eps^{2}}{3} + \\frac{4 eps^{4}}{9} + \\frac{2 eps^{5}}{9} + \\mathcal{O}\\left(eps^{6}\\right)$$"
       ],
       "metadata": {},
       "output_type": "display_data",
       "png": "[encoded data removed]",
       "text": [
        "     2        4        5          \n",
        "  eps    4\u22c5eps    2\u22c5eps     \u239b   6\u239e\n",
        "- \u2500\u2500\u2500\u2500 + \u2500\u2500\u2500\u2500\u2500\u2500 + \u2500\u2500\u2500\u2500\u2500\u2500 + O\u239deps \u23a0\n",
        "   3       9        9             "
       ]
      },
      {
       "metadata": {},
       "output_type": "display_data",
       "text": [
        "'z:'"
       ]
      },
      {
       "latex": [
        "$$eps + eps^{2} - \\frac{2 eps^{3}}{3} - eps^{4} - \\frac{eps^{5}}{9} + \\mathcal{O}\\left(eps^{6}\\right)$$"
       ],
       "metadata": {},
       "output_type": "display_data",
       "png": "[encoded data removed]",
       "text": [
        "                  3             5          \n",
        "         2   2\u22c5eps       4   eps     \u239b   6\u239e\n",
        "eps + eps  - \u2500\u2500\u2500\u2500\u2500\u2500 - eps  - \u2500\u2500\u2500\u2500 + O\u239deps \u23a0\n",
        "               3              9            "
       ]
      }
     ],
     "prompt_number": 12
    },
    {
     "cell_type": "code",
     "collapsed": false,
     "input": [],
     "language": "python",
     "metadata": {},
     "outputs": []
    }
   ],
   "metadata": {}
  }
 ]
}