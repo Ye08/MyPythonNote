{
 "metadata": {
  "name": "",
  "signature": "sha256:4f121a4e3aaa34fe2a5e7bb720bad0401c3606fbdceb6bed8a925af68d340bd4"
 },
 "nbformat": 3,
 "nbformat_minor": 0,
 "worksheets": [
  {
   "cells": [
    {
     "cell_type": "heading",
     "level": 1,
     "metadata": {},
     "source": [
      "Solution of an Example Problem in Perturbation Theory, Using Three Different Approaches in Sympy"
     ]
    },
    {
     "cell_type": "markdown",
     "metadata": {},
     "source": [
      "\u4ee5James Powell\u7684 Solution of an Example Problem in Perturbation Theory, Using Three Different Approaches in Maple \u70ba\u85cd\u672c\u6539\u5beb\n",
      "http://www.math.usu.edu/powell/math5410/pertexample1.html\n",
      "\n",
      "In this section we will use Sympy to generate a power series solution to the differential equation\n",
      "\n",
      " $$\\frac{\\partial^2}{\\partial t^2}u(t)-u(t) = \\epsilon t u(t),\\quad u(0)=1, u'(0)=-1.$$\n",
      "\n",
      "The first step will be to write a candidate solution (called y(t) below) as a polynomial in t with eight terms and unknown coefficients $a(j)$ for each power  $t^j$"
     ]
    },
    {
     "cell_type": "code",
     "collapsed": false,
     "input": [
      "#from IPython.display import display\n",
      "#from sympy.interactive import printing\n",
      "#printing.init_printing(use_latex=True)\n",
      "\n",
      "from sympy import *\n",
      "from sympy.abc import t\n",
      "from sympy.solvers import solve\n",
      "init_printing(use_latex=True)\n",
      "eps = symbols('eps')\n",
      "deg = 8\n",
      "a = symarray('a',(deg))\n",
      "\n",
      "yt = sum( a[i] * t**i\n",
      "         for i in range(deg) )\n",
      "print \"yt = \",yt"
     ],
     "language": "python",
     "metadata": {},
     "outputs": [
      {
       "output_type": "stream",
       "stream": "stdout",
       "text": [
        "yt =  a_0 + a_1*t + a_2*t**2 + a_3*t**3 + a_4*t**4 + a_5*t**5 + a_6*t**6 + a_7*t**7\n"
       ]
      }
     ],
     "prompt_number": 30
    },
    {
     "cell_type": "markdown",
     "metadata": {},
     "source": [
      "We now take calculate a derivative of y (just to see how it looks):"
     ]
    },
    {
     "cell_type": "code",
     "collapsed": false,
     "input": [
      "print \"dydt = \",diff(yt,t)"
     ],
     "language": "python",
     "metadata": {},
     "outputs": [
      {
       "output_type": "stream",
       "stream": "stdout",
       "text": [
        "dydt =  a_1 + 2*a_2*t + 3*a_3*t**2 + 4*a_4*t**3 + 5*a_5*t**4 + 6*a_6*t**5 + 7*a_7*t**6\n"
       ]
      }
     ],
     "prompt_number": 31
    },
    {
     "cell_type": "markdown",
     "metadata": {},
     "source": [
      "The differential equation is written all on the Left Hand Side and evaluated with the power series assumption for y(t), generating a complicated polynomial expression:"
     ]
    },
    {
     "cell_type": "code",
     "collapsed": false,
     "input": [
      "eq = diff(yt,t,t)-yt-eps*t*yt\n",
      "print \"eq:\",eq"
     ],
     "language": "python",
     "metadata": {},
     "outputs": [
      {
       "output_type": "stream",
       "stream": "stdout",
       "text": [
        "eq: -a_0 - a_1*t - a_2*t**2 - a_3*t**3 - a_4*t**4 - a_5*t**5 - a_6*t**6 - a_7*t**7 - eps*t*(a_0 + a_1*t + a_2*t**2 + a_3*t**3 + a_4*t**4 + a_5*t**5 + a_6*t**6 + a_7*t**7) + 2*(a_2 + 3*a_3*t + 6*a_4*t**2 + 10*a_5*t**3 + 15*a_6*t**4 + 21*a_7*t**5)\n"
       ]
      }
     ],
     "prompt_number": 32
    },
    {
     "cell_type": "markdown",
     "metadata": {},
     "source": [
      "To get the leading order terms (coefficient of 1) we can simply substitute t=0 and save the resulting equation:"
     ]
    },
    {
     "cell_type": "code",
     "collapsed": false,
     "input": [
      "eq0 = eq.subs(t,0)\n",
      "print \"leading term:\",eq0"
     ],
     "language": "python",
     "metadata": {},
     "outputs": [
      {
       "output_type": "stream",
       "stream": "stdout",
       "text": [
        "leading term: -a_0 + 2*a_2\n"
       ]
      }
     ],
     "prompt_number": 33
    },
    {
     "cell_type": "markdown",
     "metadata": {},
     "source": [
      "Remember that a(0) and a(1) are fixed by the initial conditions, so we need to solve eq0 to find a(2):"
     ]
    },
    {
     "cell_type": "code",
     "collapsed": false,
     "input": [
      "a2 = solve(eq0,a[2])\n",
      "#print eq0.subs(a[2],a2[0])\n",
      "print \"a_2 = \",a2[0]\n",
      "eqnew = poly(eq,t).subs(a[2],a2[0])\n",
      "asol = a\n",
      "asol[2] = a2[0]"
     ],
     "language": "python",
     "metadata": {},
     "outputs": [
      {
       "output_type": "stream",
       "stream": "stdout",
       "text": [
        "a_2 =  a_0/2\n"
       ]
      }
     ],
     "prompt_number": 34
    },
    {
     "cell_type": "markdown",
     "metadata": {},
     "source": [
      "Now we are in a position to get the next equation. Here we do the it all in one step; eq1 is calculated by finding the coefficient of t to the first power in eq and then a(3) is defined to be the solution of that equation."
     ]
    },
    {
     "cell_type": "code",
     "collapsed": false,
     "input": [
      "eq1 = eqnew.as_expr().coeff(t)\n",
      "a3 = solve(eq1,a[3])\n",
      "print \"a_3 = \",a3[0]   \n",
      "eqnew = eqnew.subs(a[3],a3[0])\n",
      "asol[3] = a3[0]"
     ],
     "language": "python",
     "metadata": {},
     "outputs": [
      {
       "output_type": "stream",
       "stream": "stdout",
       "text": [
        "a_3 =  a_0*eps/6 + a_1/6\n"
       ]
      }
     ],
     "prompt_number": 35
    },
    {
     "cell_type": "markdown",
     "metadata": {},
     "source": [
      "At this point we can see what pattern of commands we need to give. We will now proceed to solve for the next four coefficients of powers of t by defining equations as coefficients of t and then solving for the next unknown a(j)."
     ]
    },
    {
     "cell_type": "code",
     "collapsed": false,
     "input": [
      "eq2 = eqnew.as_expr().coeff(t**2)  \n",
      "a4 = solve(eq2,a[4])\n",
      "print \"a_4 = \",a4[0]\n",
      "eqnew = eqnew.subs(a[4],a4[0])\n",
      "asol[4] = a4[0]"
     ],
     "language": "python",
     "metadata": {},
     "outputs": [
      {
       "output_type": "stream",
       "stream": "stdout",
       "text": [
        "a_4 =  a_0/24 + a_1*eps/12\n"
       ]
      }
     ],
     "prompt_number": 36
    },
    {
     "cell_type": "code",
     "collapsed": false,
     "input": [
      "eq3 = eqnew.as_expr().coeff(t**3)\n",
      "print \"eq3:\",eq3\n",
      "a5 = solve(eq3,a[5])\n",
      "print \"a_5 = \",a5[0]\n",
      "eqnew = eqnew.subs(a[5],a5[0])\n",
      "asol[5] = a5[0]\n"
     ],
     "language": "python",
     "metadata": {},
     "outputs": [
      {
       "output_type": "stream",
       "stream": "stdout",
       "text": [
        "eq3: -2*a_0*eps/3 - a_1/6 + 20*a_5\n",
        "a_5 = "
       ]
      },
      {
       "output_type": "stream",
       "stream": "stdout",
       "text": [
        " a_0*eps/30 + a_1/120\n"
       ]
      }
     ],
     "prompt_number": 37
    },
    {
     "cell_type": "code",
     "collapsed": false,
     "input": [
      "eq4 = eqnew.as_expr().coeff(t**4)\n",
      "a6 = solve(eq4,a[6])\n",
      "print \"a_6 = \",a6[0]   \n",
      "eqnew = eqnew.subs(a[6],a6[0])\n",
      "asol[6] = a6[0]"
     ],
     "language": "python",
     "metadata": {},
     "outputs": [
      {
       "output_type": "stream",
       "stream": "stdout",
       "text": [
        "a_6 =  a_0*eps**2/180 + a_0/720 + a_1*eps/120\n"
       ]
      }
     ],
     "prompt_number": 38
    },
    {
     "cell_type": "code",
     "collapsed": false,
     "input": [
      "eq5 = eqnew.as_expr().coeff(t**5)\n",
      "a7 = solve(eq5,a[7])\n",
      "print \"a_7 = \",a7[0]\n",
      "eqnew = eqnew.subs(a[7],a7[0])\n",
      "asol[7] = a7[0]   \n",
      "\n",
      "print \"asol\",asol"
     ],
     "language": "python",
     "metadata": {},
     "outputs": [
      {
       "output_type": "stream",
       "stream": "stdout",
       "text": [
        "a_7 =  a_0*eps/560 + a_1*eps**2/504 + a_1/5040\n",
        "asol [a_0 a_1 a_0/2 a_0*eps/6 + a_1/6 a_0/24 + a_1*eps/12 a_0*eps/30 + a_1/120\n",
        " a_0*eps**2/180 + a_0/720 + a_1*eps/120\n",
        " a_0*eps/560 + a_1*eps**2/504 + a_1/5040]\n"
       ]
      }
     ],
     "prompt_number": 39
    },
    {
     "cell_type": "markdown",
     "metadata": {},
     "source": [
      "Let's see what the solution looks like now. We will define ysol(t) to be the eight term, seventh order polynomial we have found:"
     ]
    },
    {
     "cell_type": "code",
     "collapsed": false,
     "input": [
      "ysol = sum( asol[i] * t**i\n",
      "         for i in range(deg) )\n",
      "print \"ysol\",ysol.collect(t)  \n",
      "\n",
      "y0 = ysol.subs(a[1],0)\n",
      "print \"y0\",y0\n",
      "y1 = ysol.subs(a[0],0)\n",
      "print \"y1\",y1\n",
      "print \"ysol\",simplify(ysol-y0-y1)"
     ],
     "language": "python",
     "metadata": {},
     "outputs": [
      {
       "output_type": "stream",
       "stream": "stdout",
       "text": [
        "ysol a_0*t**2/2 + a_0 + a_1*t + t**7*(a_0*eps/560 + a_1*eps**2/504 + a_1/5040) + t**6*(a_0*eps**2/180 + a_0/720 + a_1*eps/120) + t**5*(a_0*eps/30 + a_1/120) + t**4*(a_0/24 + a_1*eps/12) + t**3*(a_0*eps/6 + a_1/6)\n",
        "y0 a_0*eps*t**7/560 + a_0*eps*t**5/30 + a_0*eps*t**3/6 + a_0*t**4/24 + a_0*t**2/2 + a_0 + t**6*(a_0*eps**2/180 + a_0/720)\n",
        "y1 a_1*eps*t**6/120 + a_1*eps*t**4/12 + a_1*t**5/120 + a_1*t**3/6 + a_1*t + t**7*(a_1*eps**2/504 + a_1/5040)\n",
        "ysol "
       ]
      },
      {
       "output_type": "stream",
       "stream": "stdout",
       "text": [
        "0\n"
       ]
      }
     ],
     "prompt_number": 40
    },
    {
     "cell_type": "heading",
     "level": 5,
     "metadata": {},
     "source": [
      "Plotting The Results"
     ]
    },
    {
     "cell_type": "code",
     "collapsed": false,
     "input": [
      "## Plotting The Results\n",
      "%matplotlib inline\n",
      "import matplotlib.pyplot as plt\n",
      "import numpy as np\n",
      "x = np.linspace(0, 7, 100)\n",
      "y_t = ysol.subs([(a[0],1),(a[1],-1),(eps,0.04)])\n",
      "f_t = lambdify(t, y_t,modules=['numpy'])\n",
      "## \u958b\u59cb\u756b\u5716"
     ],
     "language": "python",
     "metadata": {},
     "outputs": [],
     "prompt_number": 41
    },
    {
     "cell_type": "markdown",
     "metadata": {},
     "source": [
      "\u958b\u59cb\u756b\u5716\n",
      "\u8a2d\u5b9a\u8981\u756b\u7684\u7684x,y\u6578\u64dalist...."
     ]
    },
    {
     "cell_type": "code",
     "collapsed": false,
     "input": [
      "plt.plot(x,f_t(x)) \n",
      "#\n",
      "#    # \u8a2d\u5b9a\u5716\u7684\u7bc4\u570d, \u4e0d\u8a2d\u7684\u8a71\uff0c\u7cfb\u7d71\u6703\u81ea\u884c\u6c7a\u5b9a\n",
      "plt.xlim(0,7) \n",
      "plt.ylim(-1,5)\n",
      "#    # \u7167\u9700\u8981\u5beb\u5165x \u8ef8\u548cy\u8ef8\u7684 label \u4ee5\u53catitle\n",
      "#\n",
      "plt.xlabel(\"x-axis\")   \n",
      "plt.ylabel(\"y-axis\")   \n",
      "plt.title(\"The Title\") \n",
      "#    # \u5728\u9019\u500b\u6307\u4ee4\u4e4b\u524d\uff0c\u90fd\u9084\u5728\u505a\u756b\u5716\u7684\u52d5\u4f5c \n",
      "#    # \u9019\u500b\u6307\u4ee4\u7b97\u662f \"\u79c0\u5716\" \n",
      "plt.show() "
     ],
     "language": "python",
     "metadata": {},
     "outputs": [
      {
       "metadata": {},
       "output_type": "display_data",
       "png": "[encoded data removed]",
       "text": [
        "<matplotlib.figure.Figure at 0x3de0e90>"
       ]
      }
     ],
     "prompt_number": 42
    },
    {
     "cell_type": "heading",
     "level": 2,
     "metadata": {},
     "source": [
      "Perturbation Solution"
     ]
    },
    {
     "cell_type": "code",
     "collapsed": false,
     "input": [
      "# Perturbation Solution\n",
      "u0 = Function('u0')\n",
      "u1 = Function('u1')\n",
      "u2 = Function('u2')\n",
      "ut = Function('ut')\n",
      "ut = u0(t)+eps*u1(t)+eps**2*u2(t)\n",
      "#Derivative(f(x),x,x) \n",
      "print ut \n",
      "#type(u0),type(ut)\n",
      "eqpert = diff(ut,t,t)-ut-eps*t*ut #Derivative(ut(t),t,t) #-ut(t)-eps*t*ut(t)\n",
      "print eqpert "
     ],
     "language": "python",
     "metadata": {},
     "outputs": [
      {
       "output_type": "stream",
       "stream": "stdout",
       "text": [
        "eps**2*u2(t) + eps*u1(t) + u0(t)\n",
        "-eps**2*u2(t) + eps**2*Derivative(u2(t), t, t) - eps*t*(eps**2*u2(t) + eps*u1(t) + u0(t)) - eps*u1(t) + eps*Derivative(u1(t), t, t) - u0(t) + Derivative(u0(t), t, t)"
       ]
      },
      {
       "output_type": "stream",
       "stream": "stdout",
       "text": [
        "\n"
       ]
      }
     ],
     "prompt_number": 43
    },
    {
     "cell_type": "markdown",
     "metadata": {},
     "source": [
      "To get the zeroth order perturbation equation we just substitute  epsilon = 0 into the governing equation and save the result as the variable eqp0:"
     ]
    },
    {
     "cell_type": "code",
     "collapsed": false,
     "input": [
      "eqp0 = eqpert.subs(eps,0)\n",
      "print \"leading term:\",eqp0"
     ],
     "language": "python",
     "metadata": {},
     "outputs": [
      {
       "output_type": "stream",
       "stream": "stdout",
       "text": [
        "leading term: -u0(t) + Derivative(u0(t), t, t)\n"
       ]
      }
     ],
     "prompt_number": 44
    },
    {
     "cell_type": "markdown",
     "metadata": {},
     "source": [
      "To get the first order (in  epsilon ) equation we can take the first derivative of eqpert, with respect to  epsilon , and substitute  epsilon = 0 into the result to give the first order perturbation equation, which we will save as a variable `epq1'."
     ]
    },
    {
     "cell_type": "code",
     "collapsed": false,
     "input": [
      "eqp1 = diff(eqpert,eps).subs(eps,0)\n",
      "print \"first order:\",eqp1"
     ],
     "language": "python",
     "metadata": {},
     "outputs": [
      {
       "output_type": "stream",
       "stream": "stdout",
       "text": [
        "first order: -t*u0(t) - u1(t) + Derivative(u1(t), t, t)\n"
       ]
      }
     ],
     "prompt_number": 45
    },
    {
     "cell_type": "markdown",
     "metadata": {},
     "source": [
      "Now the beat roles on; to find the second order equation we take two derivatives and evaluate at  epsilon = 0 ; the factor of 1/2 is just because of the division by 2 factorial in the Maclaurin expansion."
     ]
    },
    {
     "cell_type": "code",
     "collapsed": false,
     "input": [
      "eqp2 = diff(eqpert,eps,eps).subs(eps,0)\n",
      "print \"Second order:\",eqp2"
     ],
     "language": "python",
     "metadata": {},
     "outputs": [
      {
       "output_type": "stream",
       "stream": "stdout",
       "text": [
        "Second order: -2*t*u1(t) - 2*u2(t) + 2*Derivative(u2(t), t, t)\n"
       ]
      }
     ],
     "prompt_number": 46
    },
    {
     "cell_type": "markdown",
     "metadata": {},
     "source": [
      "Knowing the perturbation equations we can begin to determine the solutions. Using the command dsolve to solve the zeroth order equation gives a general solution"
     ]
    },
    {
     "cell_type": "code",
     "collapsed": false,
     "input": [
      "from sympy import dsolve\n",
      "dsolve(eqp0,u0(t))"
     ],
     "language": "python",
     "metadata": {},
     "outputs": [
      {
       "latex": [
        "$$\\operatorname{u_{0}}{\\left (t \\right )} = C_{1} e^{- t} + C_{2} e^{t}$$"
       ],
       "metadata": {},
       "output_type": "pyout",
       "png": "[encoded data removed]",
       "prompt_number": 47,
       "text": [
        "            -t       t\n",
        "u\u2080(t) = C\u2081\u22c5\u212f   + C\u2082\u22c5\u212f "
       ]
      }
     ],
     "prompt_number": 47
    },
    {
     "cell_type": "markdown",
     "metadata": {},
     "source": [
      "Manually solve the equation with initial conditions, $u0(0)=1$, $u0'(0)=-1$ and we have"
     ]
    },
    {
     "cell_type": "code",
     "collapsed": false,
     "input": [
      "C1,C2 = symbols('C1 C2')\n",
      "u0g = C1*exp(t) + C2*exp(-t)\n",
      "coef=solve([Eq(u0g.subs(t,0),1),Eq(diff(u0g,t).subs(t,0),-1)],[C1,C2])\n",
      "u0sol = u0g.subs([(C1,coef.get(C1)),(C2,coef.get(C2))])\n",
      "print u0sol"
     ],
     "language": "python",
     "metadata": {},
     "outputs": [
      {
       "output_type": "stream",
       "stream": "stdout",
       "text": [
        "exp(-t)\n"
       ]
      }
     ],
     "prompt_number": 48
    },
    {
     "cell_type": "markdown",
     "metadata": {},
     "source": [
      "At the next order, solving for the first correction term, $u1(t)$, generates the following function:"
     ]
    },
    {
     "cell_type": "code",
     "collapsed": false,
     "input": [
      "dsolve(eqp1.subs(u0(t),u0sol),u1(t))"
     ],
     "language": "python",
     "metadata": {},
     "outputs": [
      {
       "latex": [
        "$$\\operatorname{u_{1}}{\\left (t \\right )} = C_{2} e^{t} + \\left(C_{1} - \\frac{t^{2}}{4} - \\frac{t}{4}\\right) e^{- t}$$"
       ],
       "metadata": {},
       "output_type": "pyout",
       "png": "[encoded data removed]",
       "prompt_number": 49,
       "text": [
        "                \u239b      2    \u239e    \n",
        "            t   \u239c     t    t\u239f  -t\n",
        "u\u2081(t) = C\u2082\u22c5\u212f  + \u239cC\u2081 - \u2500\u2500 - \u2500\u239f\u22c5\u212f  \n",
        "                \u239d     4    4\u23a0    "
       ]
      }
     ],
     "prompt_number": 49
    },
    {
     "cell_type": "markdown",
     "metadata": {},
     "source": [
      "Since the initial conditions are included previously, the initial data will be zero."
     ]
    },
    {
     "cell_type": "code",
     "collapsed": false,
     "input": [
      "u1g = C1*exp(t) + (C2 - t**2/4 - t/4)*exp(-t)\n",
      "coef=solve([Eq(u1g.subs(t,0),0),Eq(diff(u1g,t).subs(t,0),0)],[C1,C2])\n",
      "u1sol = u1g.subs([(C1,coef.get(C1)),(C2,coef.get(C2))])\n",
      "print u1sol"
     ],
     "language": "python",
     "metadata": {},
     "outputs": [
      {
       "output_type": "stream",
       "stream": "stdout",
       "text": [
        "(-t**2/4 - t/4 - 1/8)*exp(-t) + exp(t)/8\n"
       ]
      }
     ],
     "prompt_number": 50
    },
    {
     "cell_type": "markdown",
     "metadata": {},
     "source": [
      "Solving for the second order correction (that is, order  $\\epsilon^2$ ) gives the kind of function that makes us happy to be using Sympy:"
     ]
    },
    {
     "cell_type": "code",
     "collapsed": false,
     "input": [
      "dsolve(eqp2.subs(u1(t),u1sol),u2(t))"
     ],
     "language": "python",
     "metadata": {},
     "outputs": [
      {
       "latex": [
        "$$\\operatorname{u_{2}}{\\left (t \\right )} = \\left(C_{1} + \\frac{t^{2}}{32} - \\frac{t}{32}\\right) e^{t} + \\left(C_{2} + \\frac{t^{4}}{32} + \\frac{5 t^{3}}{48} + \\frac{3 t^{2}}{16} + \\frac{3 t}{16}\\right) e^{- t}$$"
       ],
       "metadata": {},
       "output_type": "pyout",
       "png": "[encoded data removed]",
       "prompt_number": 51,
       "text": [
        "        \u239b      2     \u239e      \u239b      4      3      2      \u239e    \n",
        "        \u239c     t    t \u239f  t   \u239c     t    5\u22c5t    3\u22c5t    3\u22c5t\u239f  -t\n",
        "u\u2082(t) = \u239cC\u2081 + \u2500\u2500 - \u2500\u2500\u239f\u22c5\u212f  + \u239cC\u2082 + \u2500\u2500 + \u2500\u2500\u2500\u2500 + \u2500\u2500\u2500\u2500 + \u2500\u2500\u2500\u239f\u22c5\u212f  \n",
        "        \u239d     32   32\u23a0      \u239d     32    48     16     16\u23a0    "
       ]
      }
     ],
     "prompt_number": 51
    },
    {
     "cell_type": "markdown",
     "metadata": {},
     "source": [
      "Since the initial conditions are included previously, the initial data will be zero."
     ]
    },
    {
     "cell_type": "code",
     "collapsed": false,
     "input": [
      "u2g = (C1 + t**2/32 - t/32)*exp(t) + (C2 + t**4/32 + 5*t**3/48 + 3*t**2/16 + 3*t/16)*exp(-t)\n",
      "coef=solve([Eq(u2g.subs(t,0),0),Eq(diff(u2g,t).subs(t,0),0)],[C1,C2])\n",
      "u2sol = u2g.subs([(C1,coef.get(C1)),(C2,coef.get(C2))])\n",
      "print u2sol"
     ],
     "language": "python",
     "metadata": {},
     "outputs": [
      {
       "output_type": "stream",
       "stream": "stdout",
       "text": [
        "(t**2/32 - t/32 - 5/64)*exp(t) + (t**4/32 + 5*t**3/48 + 3*t**2/16 + 3*t/16 + 5/64)*exp(-t)\n"
       ]
      }
     ],
     "prompt_number": 52
    },
    {
     "cell_type": "markdown",
     "metadata": {},
     "source": [
      "These solutions can now be substituted back into the original perturbation ansatz to give our approximate asymptotic solution"
     ]
    },
    {
     "cell_type": "code",
     "collapsed": false,
     "input": [
      "upert = ut.subs([(u0(t),u0sol),(u1(t),u1sol),(u2(t),u2sol)])\n",
      "print upert"
     ],
     "language": "python",
     "metadata": {},
     "outputs": [
      {
       "output_type": "stream",
       "stream": "stdout",
       "text": [
        "eps**2*((t**2/32 - t/32 - 5/64)*exp(t) + (t**4/32 + 5*t**3/48 + 3*t**2/16 + 3*t/16 + 5/64)*exp(-t)) + eps*((-t**2/4 - t/4 - 1/8)*exp(-t) + exp(t)/8) + exp(-t)\n"
       ]
      }
     ],
     "prompt_number": 53
    },
    {
     "cell_type": "code",
     "collapsed": false,
     "input": [
      "x = np.linspace(0, 7, 100)\n",
      "y_pert = upert.subs([(eps,0.04)])\n",
      "f_pert = lambdify(t, y_pert,modules=['numpy'])\n",
      "plt.plot(x,f_pert(x)) \n",
      "#\n",
      "#    # \u8a2d\u5b9a\u5716\u7684\u7bc4\u570d, \u4e0d\u8a2d\u7684\u8a71\uff0c\u7cfb\u7d71\u6703\u81ea\u884c\u6c7a\u5b9a\n",
      "plt.xlim(0,7) \n",
      "plt.ylim(-1,5)\n",
      "#    # \u7167\u9700\u8981\u5beb\u5165x \u8ef8\u548cy\u8ef8\u7684 label \u4ee5\u53catitle\n",
      "#\n",
      "plt.xlabel(\"x-axis\")   \n",
      "plt.ylabel(\"y-axis\")   \n",
      "plt.title(\"Perturbation Solution\") \n",
      "#    # \u5728\u9019\u500b\u6307\u4ee4\u4e4b\u524d\uff0c\u90fd\u9084\u5728\u505a\u756b\u5716\u7684\u52d5\u4f5c \n",
      "#    # \u9019\u500b\u6307\u4ee4\u7b97\u662f \"\u79c0\u5716\" \n",
      "plt.show() "
     ],
     "language": "python",
     "metadata": {},
     "outputs": [
      {
       "metadata": {},
       "output_type": "display_data",
       "png": "[encoded data removed]",
       "text": [
        "<matplotlib.figure.Figure at 0x3ffd450>"
       ]
      }
     ],
     "prompt_number": 54
    },
    {
     "cell_type": "heading",
     "level": 2,
     "metadata": {},
     "source": [
      "Numerical Solution"
     ]
    },
    {
     "cell_type": "markdown",
     "metadata": {},
     "source": [
      "Now we turn to finding the \"true\" solution, or at least a numerical approximation to the correct solution. First we need to define the equation we want to solve"
     ]
    },
    {
     "cell_type": "code",
     "collapsed": false,
     "input": [
      "from IPython.display import display\n",
      "display(eqpert)\n",
      "from sympy.interactive import printing\n",
      "printing.init_printing(use_latex=True)\n",
      "display(eqpert)\n",
      "un = Function('un')\n",
      "#Derivative(f(x),x,x) \n",
      "diff(u0,t,t)\n",
      "#type(u0),type(ut)\n",
      "meqpert = diff(un,t,t)-un-eps*t*un\n",
      "display(meqpert)"
     ],
     "language": "python",
     "metadata": {},
     "outputs": [
      {
       "latex": [
        "$$- eps^{2} \\operatorname{u_{2}}{\\left (t \\right )} + eps^{2} \\frac{d^{2}}{d t^{2}}  \\operatorname{u_{2}}{\\left (t \\right )} - eps t \\left(eps^{2} \\operatorname{u_{2}}{\\left (t \\right )} + eps \\operatorname{u_{1}}{\\left (t \\right )} + \\operatorname{u_{0}}{\\left (t \\right )}\\right) - eps \\operatorname{u_{1}}{\\left (t \\right )} + eps \\frac{d^{2}}{d t^{2}}  \\operatorname{u_{1}}{\\left (t \\right )} - \\operatorname{u_{0}}{\\left (t \\right )} + \\frac{d^{2}}{d t^{2}}  \\operatorname{u_{0}}{\\left (t \\right )}$$"
       ],
       "metadata": {},
       "output_type": "display_data",
       "png": "[encoded data removed]",
       "text": [
        "                      2                                                       \n",
        "     2            2  d                 \u239b   2                          \u239e       \n",
        "- eps \u22c5u\u2082(t) + eps \u22c5\u2500\u2500\u2500(u\u2082(t)) - eps\u22c5t\u22c5\u239deps \u22c5u\u2082(t) + eps\u22c5u\u2081(t) + u\u2080(t)\u23a0 - eps\u22c5\n",
        "                      2                                                       \n",
        "                    dt                                                        \n",
        "\n",
        "              2                    2       \n",
        "             d                    d        \n",
        "u\u2081(t) + eps\u22c5\u2500\u2500\u2500(u\u2081(t)) - u\u2080(t) + \u2500\u2500\u2500(u\u2080(t))\n",
        "              2                    2       \n",
        "            dt                   dt        "
       ]
      },
      {
       "latex": [
        "$$- eps^{2} \\operatorname{u_{2}}{\\left (t \\right )} + eps^{2} \\frac{d^{2}}{d t^{2}}  \\operatorname{u_{2}}{\\left (t \\right )} - eps t \\left(eps^{2} \\operatorname{u_{2}}{\\left (t \\right )} + eps \\operatorname{u_{1}}{\\left (t \\right )} + \\operatorname{u_{0}}{\\left (t \\right )}\\right) - eps \\operatorname{u_{1}}{\\left (t \\right )} + eps \\frac{d^{2}}{d t^{2}}  \\operatorname{u_{1}}{\\left (t \\right )} - \\operatorname{u_{0}}{\\left (t \\right )} + \\frac{d^{2}}{d t^{2}}  \\operatorname{u_{0}}{\\left (t \\right )}$$"
       ],
       "metadata": {},
       "output_type": "display_data",
       "png": "[encoded data removed]",
       "text": [
        "                      2                                                       \n",
        "     2            2  d                 \u239b   2                          \u239e       \n",
        "- eps \u22c5u\u2082(t) + eps \u22c5\u2500\u2500\u2500(u\u2082(t)) - eps\u22c5t\u22c5\u239deps \u22c5u\u2082(t) + eps\u22c5u\u2081(t) + u\u2080(t)\u23a0 - eps\u22c5\n",
        "                      2                                                       \n",
        "                    dt                                                        \n",
        "\n",
        "              2                    2       \n",
        "             d                    d        \n",
        "u\u2081(t) + eps\u22c5\u2500\u2500\u2500(u\u2081(t)) - u\u2080(t) + \u2500\u2500\u2500(u\u2080(t))\n",
        "              2                    2       \n",
        "            dt                   dt        "
       ]
      },
      {
       "ename": "TypeError",
       "evalue": "'property' object is not iterable",
       "output_type": "pyerr",
       "traceback": [
        "\u001b[1;31m---------------------------------------------------------------------------\u001b[0m\n\u001b[1;31mTypeError\u001b[0m                                 Traceback (most recent call last)",
        "\u001b[1;32m<ipython-input-55-3ec667c2ed2e>\u001b[0m in \u001b[0;36m<module>\u001b[1;34m()\u001b[0m\n\u001b[0;32m      6\u001b[0m \u001b[0mun\u001b[0m \u001b[1;33m=\u001b[0m \u001b[0mFunction\u001b[0m\u001b[1;33m(\u001b[0m\u001b[1;34m'un'\u001b[0m\u001b[1;33m)\u001b[0m\u001b[1;33m\u001b[0m\u001b[0m\n\u001b[0;32m      7\u001b[0m \u001b[1;31m#Derivative(f(x),x,x)\u001b[0m\u001b[1;33m\u001b[0m\u001b[1;33m\u001b[0m\u001b[0m\n\u001b[1;32m----> 8\u001b[1;33m \u001b[0mdiff\u001b[0m\u001b[1;33m(\u001b[0m\u001b[0mu0\u001b[0m\u001b[1;33m,\u001b[0m\u001b[0mt\u001b[0m\u001b[1;33m,\u001b[0m\u001b[0mt\u001b[0m\u001b[1;33m)\u001b[0m\u001b[1;33m\u001b[0m\u001b[0m\n\u001b[0m\u001b[0;32m      9\u001b[0m \u001b[1;31m#type(u0),type(ut)\u001b[0m\u001b[1;33m\u001b[0m\u001b[1;33m\u001b[0m\u001b[0m\n\u001b[0;32m     10\u001b[0m \u001b[0mmeqpert\u001b[0m \u001b[1;33m=\u001b[0m \u001b[0mdiff\u001b[0m\u001b[1;33m(\u001b[0m\u001b[0mun\u001b[0m\u001b[1;33m,\u001b[0m\u001b[0mt\u001b[0m\u001b[1;33m,\u001b[0m\u001b[0mt\u001b[0m\u001b[1;33m)\u001b[0m\u001b[1;33m-\u001b[0m\u001b[0mun\u001b[0m\u001b[1;33m-\u001b[0m\u001b[0meps\u001b[0m\u001b[1;33m*\u001b[0m\u001b[0mt\u001b[0m\u001b[1;33m*\u001b[0m\u001b[0mun\u001b[0m\u001b[1;33m\u001b[0m\u001b[0m\n",
        "\u001b[1;32m/usr/local/lib/python2.7/dist-packages/sympy/core/function.pyc\u001b[0m in \u001b[0;36mdiff\u001b[1;34m(f, *symbols, **kwargs)\u001b[0m\n\u001b[0;32m   1639\u001b[0m     \"\"\"\n\u001b[0;32m   1640\u001b[0m     \u001b[0mkwargs\u001b[0m\u001b[1;33m.\u001b[0m\u001b[0msetdefault\u001b[0m\u001b[1;33m(\u001b[0m\u001b[1;34m'evaluate'\u001b[0m\u001b[1;33m,\u001b[0m \u001b[0mTrue\u001b[0m\u001b[1;33m)\u001b[0m\u001b[1;33m\u001b[0m\u001b[0m\n\u001b[1;32m-> 1641\u001b[1;33m     \u001b[1;32mreturn\u001b[0m \u001b[0mDerivative\u001b[0m\u001b[1;33m(\u001b[0m\u001b[0mf\u001b[0m\u001b[1;33m,\u001b[0m \u001b[1;33m*\u001b[0m\u001b[0msymbols\u001b[0m\u001b[1;33m,\u001b[0m \u001b[1;33m**\u001b[0m\u001b[0mkwargs\u001b[0m\u001b[1;33m)\u001b[0m\u001b[1;33m\u001b[0m\u001b[0m\n\u001b[0m\u001b[0;32m   1642\u001b[0m \u001b[1;33m\u001b[0m\u001b[0m\n\u001b[0;32m   1643\u001b[0m \u001b[1;33m\u001b[0m\u001b[0m\n",
        "\u001b[1;32m/usr/local/lib/python2.7/dist-packages/sympy/core/function.pyc\u001b[0m in \u001b[0;36m__new__\u001b[1;34m(cls, expr, *variables, **assumptions)\u001b[0m\n\u001b[0;32m   1050\u001b[0m         \u001b[1;32mif\u001b[0m \u001b[0mevaluate\u001b[0m\u001b[1;33m:\u001b[0m\u001b[1;33m\u001b[0m\u001b[0m\n\u001b[0;32m   1051\u001b[0m             \u001b[0msymbol_set\u001b[0m \u001b[1;33m=\u001b[0m \u001b[0mset\u001b[0m\u001b[1;33m(\u001b[0m\u001b[0msc\u001b[0m\u001b[1;33m[\u001b[0m\u001b[1;36m0\u001b[0m\u001b[1;33m]\u001b[0m \u001b[1;32mfor\u001b[0m \u001b[0msc\u001b[0m \u001b[1;32min\u001b[0m \u001b[0mvariable_count\u001b[0m \u001b[1;32mif\u001b[0m \u001b[0msc\u001b[0m\u001b[1;33m[\u001b[0m\u001b[1;36m0\u001b[0m\u001b[1;33m]\u001b[0m\u001b[1;33m.\u001b[0m\u001b[0mis_Symbol\u001b[0m\u001b[1;33m)\u001b[0m\u001b[1;33m\u001b[0m\u001b[0m\n\u001b[1;32m-> 1052\u001b[1;33m             \u001b[1;32mif\u001b[0m \u001b[0msymbol_set\u001b[0m\u001b[1;33m.\u001b[0m\u001b[0mdifference\u001b[0m\u001b[1;33m(\u001b[0m\u001b[0mexpr\u001b[0m\u001b[1;33m.\u001b[0m\u001b[0mfree_symbols\u001b[0m\u001b[1;33m)\u001b[0m\u001b[1;33m:\u001b[0m\u001b[1;33m\u001b[0m\u001b[0m\n\u001b[0m\u001b[0;32m   1053\u001b[0m                 \u001b[1;32mreturn\u001b[0m \u001b[0mS\u001b[0m\u001b[1;33m.\u001b[0m\u001b[0mZero\u001b[0m\u001b[1;33m\u001b[0m\u001b[0m\n\u001b[0;32m   1054\u001b[0m \u001b[1;33m\u001b[0m\u001b[0m\n",
        "\u001b[1;31mTypeError\u001b[0m: 'property' object is not iterable"
       ]
      }
     ],
     "prompt_number": 55
    },
    {
     "cell_type": "code",
     "collapsed": false,
     "input": [],
     "language": "python",
     "metadata": {},
     "outputs": []
    }
   ],
   "metadata": {}
  }
 ]
}