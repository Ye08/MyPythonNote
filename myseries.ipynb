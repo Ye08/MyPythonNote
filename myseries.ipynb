{
 "metadata": {
  "name": "",
  "signature": "sha256:3ac392a16e43e9083ae4c84969d5ede9c5ffbae933e7428d41d183fac6ab499c"
 },
 "nbformat": 3,
 "nbformat_minor": 0,
 "worksheets": [
  {
   "cells": [
    {
     "cell_type": "heading",
     "level": 1,
     "metadata": {},
     "source": [
      "Solution of an Example Problem in Perturbation Theory, Using Three Different Approaches in Sympy"
     ]
    },
    {
     "cell_type": "markdown",
     "metadata": {},
     "source": [
      "\u4ee5James Powell\u7684 Solution of an Example Problem in Perturbation Theory, Using Three Different Approaches in Maple \u70ba\u85cd\u672c\u6539\u5beb\n",
      "http://www.math.usu.edu/powell/math5410/pertexample1.html\n",
      "\n",
      "In this section we will use Sympy to generate a power series solution to the differential equation\n",
      "\n",
      " $$\\frac{\\partial^2}{\\partial t^2}u(t)-u(t) = \\epsilon t u(t),\\quad u(0)=1, u'(0)=-1.$$\n",
      "\n",
      "The first step will be to write a candidate solution (called y(t) below) as a polynomial in t with eight terms and unknown coefficients $a(j)$ for each power  $t^j$"
     ]
    },
    {
     "cell_type": "code",
     "collapsed": false,
     "input": [
      "from sympy import *\n",
      "from sympy.abc import t\n",
      "from sympy.solvers import solve\n",
      "\n",
      "eps = symbols('eps')\n",
      "deg = 8\n",
      "a = symarray('a',(deg))\n",
      "\n",
      "yt = sum( a[i] * t**i\n",
      "         for i in range(deg) )\n",
      "print \"yt = \",yt"
     ],
     "language": "python",
     "metadata": {},
     "outputs": [
      {
       "output_type": "stream",
       "stream": "stdout",
       "text": [
        "yt =  a_0 + a_1*t + a_2*t**2 + a_3*t**3 + a_4*t**4 + a_5*t**5 + a_6*t**6 + a_7*t**7\n"
       ]
      }
     ],
     "prompt_number": 45
    },
    {
     "cell_type": "markdown",
     "metadata": {},
     "source": [
      "We now take calculate a derivative of y (just to see how it looks):"
     ]
    },
    {
     "cell_type": "code",
     "collapsed": false,
     "input": [
      "print \"dydt = \",diff(yt,t)"
     ],
     "language": "python",
     "metadata": {},
     "outputs": [
      {
       "output_type": "stream",
       "stream": "stdout",
       "text": [
        "dydt =  a_1 + 2*a_2*t + 3*a_3*t**2 + 4*a_4*t**3 + 5*a_5*t**4 + 6*a_6*t**5 + 7*a_7*t**6\n"
       ]
      }
     ],
     "prompt_number": 46
    },
    {
     "cell_type": "markdown",
     "metadata": {},
     "source": [
      "The differential equation is written all on the Left Hand Side and evaluated with the power series assumption for y(t), generating a complicated polynomial expression:"
     ]
    },
    {
     "cell_type": "code",
     "collapsed": false,
     "input": [
      "eq = diff(yt,t,t)-yt-eps*t*yt\n",
      "print \"eq:\",eq"
     ],
     "language": "python",
     "metadata": {},
     "outputs": [
      {
       "output_type": "stream",
       "stream": "stdout",
       "text": [
        "eq: -a_0 - a_1*t - a_2*t**2 + 2*a_2 - a_3*t**3 + 6*a_3*t - a_4*t**4 + 12*a_4*t**2 - a_5*t**5 + 20*a_5*t**3 - a_6*t**6 + 30*a_6*t**4 - a_7*t**7 + 42*a_7*t**5 - eps*t*(a_0 + a_1*t + a_2*t**2 + a_3*t**3 + a_4*t**4 + a_5*t**5 + a_6*t**6 + a_7*t**7)\n"
       ]
      }
     ],
     "prompt_number": 47
    },
    {
     "cell_type": "markdown",
     "metadata": {},
     "source": [
      "To get the leading order terms (coefficient of 1) we can simply substitute t=0 and save the resulting equation:"
     ]
    },
    {
     "cell_type": "code",
     "collapsed": false,
     "input": [
      "eq0 = eq.subs(t,0)\n",
      "print \"leading term:\",eq0"
     ],
     "language": "python",
     "metadata": {},
     "outputs": [
      {
       "output_type": "stream",
       "stream": "stdout",
       "text": [
        "leading term: -a_0 + 2*a_2\n"
       ]
      }
     ],
     "prompt_number": 48
    },
    {
     "cell_type": "markdown",
     "metadata": {},
     "source": [
      "Remember that a(0) and a(1) are fixed by the initial conditions, so we need to solve eq0 to find a(2):"
     ]
    },
    {
     "cell_type": "code",
     "collapsed": false,
     "input": [
      "a2 = solve(eq0,a[2])\n",
      "#print eq0.subs(a[2],a2[0])\n",
      "print \"a_2 = \",a2[0]\n",
      "eqnew = poly(eq,t).subs(a[2],a2[0])\n",
      "asol = a\n",
      "asol[2] = a2[0]"
     ],
     "language": "python",
     "metadata": {},
     "outputs": [
      {
       "output_type": "stream",
       "stream": "stdout",
       "text": [
        "a_2 =  a_0/2\n"
       ]
      }
     ],
     "prompt_number": 49
    },
    {
     "cell_type": "markdown",
     "metadata": {},
     "source": [
      "Now we are in a position to get the next equation. Here we do the it all in one step; eq1 is calculated by finding the coefficient of t to the first power in eq and then a(3) is defined to be the solution of that equation."
     ]
    },
    {
     "cell_type": "code",
     "collapsed": false,
     "input": [
      "eq1 = eqnew.as_expr().coeff(t)\n",
      "a3 = solve(eq1,a[3])\n",
      "print \"a_3 = \",a3[0]   \n",
      "eqnew = eqnew.subs(a[3],a3[0])\n",
      "asol[3] = a3[0]"
     ],
     "language": "python",
     "metadata": {},
     "outputs": [
      {
       "output_type": "stream",
       "stream": "stdout",
       "text": [
        "a_3 =  a_0*eps/6 + a_1/6\n"
       ]
      }
     ],
     "prompt_number": 50
    },
    {
     "cell_type": "markdown",
     "metadata": {},
     "source": [
      "At this point we can see what pattern of commands we need to give. We will now proceed to solve for the next four coefficients of powers of t by defining equations as coefficients of t and then solving for the next unknown a(j)."
     ]
    },
    {
     "cell_type": "code",
     "collapsed": false,
     "input": [
      "eq2 = eqnew.as_expr().coeff(t**2)  \n",
      "a4 = solve(eq2,a[4])\n",
      "print \"a_4 = \",a4[0]\n",
      "eqnew = eqnew.subs(a[4],a4[0])\n",
      "asol[4] = a4[0]"
     ],
     "language": "python",
     "metadata": {},
     "outputs": [
      {
       "output_type": "stream",
       "stream": "stdout",
       "text": [
        "a_4 =  a_0/24 + a_1*eps/12\n"
       ]
      }
     ],
     "prompt_number": 51
    },
    {
     "cell_type": "code",
     "collapsed": false,
     "input": [
      "eq3 = eqnew.as_expr().coeff(t**3)\n",
      "print \"eq3:\",eq3\n",
      "a5 = solve(eq3,a[5])\n",
      "print \"a_5 = \",a5[0]\n",
      "eqnew = eqnew.subs(a[5],a5[0])\n",
      "asol[5] = a5[0]\n"
     ],
     "language": "python",
     "metadata": {},
     "outputs": [
      {
       "output_type": "stream",
       "stream": "stdout",
       "text": [
        "eq3: -2*a_0*eps/3 - a_1/6 + 20*a_5\n",
        "a_5 =  a_0*eps/30 + a_1/120\n"
       ]
      }
     ],
     "prompt_number": 52
    },
    {
     "cell_type": "code",
     "collapsed": false,
     "input": [
      "eq4 = eqnew.as_expr().coeff(t**4)\n",
      "a6 = solve(eq4,a[6])\n",
      "print \"a_6 = \",a6[0]   \n",
      "eqnew = eqnew.subs(a[6],a6[0])\n",
      "asol[6] = a6[0]"
     ],
     "language": "python",
     "metadata": {},
     "outputs": [
      {
       "output_type": "stream",
       "stream": "stdout",
       "text": [
        "a_6 =  a_0*eps**2/180 + a_0/720 + a_1*eps/120\n"
       ]
      }
     ],
     "prompt_number": 53
    },
    {
     "cell_type": "code",
     "collapsed": false,
     "input": [
      "eq5 = eqnew.as_expr().coeff(t**5)\n",
      "a7 = solve(eq5,a[7])\n",
      "print \"a_7 = \",a7[0]\n",
      "eqnew = eqnew.subs(a[7],a7[0])\n",
      "asol[7] = a7[0]   \n",
      "\n",
      "print \"asol\",asol"
     ],
     "language": "python",
     "metadata": {},
     "outputs": [
      {
       "output_type": "stream",
       "stream": "stdout",
       "text": [
        "a_7 =  a_0*eps/560 + a_1*eps**2/504 + a_1/5040\n",
        "asol [a_0 a_1 a_0/2 a_0*eps/6 + a_1/6 a_0/24 + a_1*eps/12 a_0*eps/30 + a_1/120\n",
        " a_0*eps**2/180 + a_0/720 + a_1*eps/120\n",
        " a_0*eps/560 + a_1*eps**2/504 + a_1/5040]\n"
       ]
      }
     ],
     "prompt_number": 54
    },
    {
     "cell_type": "markdown",
     "metadata": {},
     "source": [
      "Let's see what the solution looks like now. We will define ysol(t) to be the eight term, seventh order polynomial we have found:"
     ]
    },
    {
     "cell_type": "code",
     "collapsed": false,
     "input": [
      "ysol = sum( asol[i] * t**i\n",
      "         for i in range(deg) )\n",
      "print \"ysol\",ysol.collect(t)  \n",
      "\n",
      "y0 = ysol.subs(a[1],0)\n",
      "print \"y0\",y0\n",
      "y1 = ysol.subs(a[0],0)\n",
      "print \"y1\",y1\n",
      "print \"ysol\",simplify(ysol-y0-y1)"
     ],
     "language": "python",
     "metadata": {},
     "outputs": [
      {
       "output_type": "stream",
       "stream": "stdout",
       "text": [
        "ysol a_0*t**2/2 + a_0 + a_1*t + t**7*(a_0*eps/560 + a_1*eps**2/504 + a_1/5040) + t**6*(a_0*eps**2/180 + a_0/720 + a_1*eps/120) + t**5*(a_0*eps/30 + a_1/120) + t**4*(a_0/24 + a_1*eps/12) + t**3*(a_0*eps/6 + a_1/6)\n",
        "y0 a_0*eps*t**7/560 + a_0*eps*t**5/30 + a_0*eps*t**3/6 + a_0*t**4/24 + a_0*t**2/2 + a_0 + t**6*(a_0*eps**2/180 + a_0/720)\n",
        "y1 a_1*eps*t**6/120 + a_1*eps*t**4/12 + a_1*t**5/120 + a_1*t**3/6 + a_1*t + t**7*(a_1*eps**2/504 + a_1/5040)\n",
        "ysol 0\n"
       ]
      }
     ],
     "prompt_number": 55
    },
    {
     "cell_type": "heading",
     "level": 5,
     "metadata": {},
     "source": [
      "Plotting The Results"
     ]
    },
    {
     "cell_type": "code",
     "collapsed": false,
     "input": [
      "## Plotting The Results\n",
      "%matplotlib inline\n",
      "import matplotlib.pyplot as plt\n",
      "import numpy as np\n",
      "x = np.linspace(0, 7, 100)\n",
      "y_t = ysol.subs([(a[0],1),(a[1],-1),(eps,0.04)])\n",
      "f_t = lambdify(t, y_t,modules=['numpy'])\n",
      "## \u958b\u59cb\u756b\u5716"
     ],
     "language": "python",
     "metadata": {},
     "outputs": [],
     "prompt_number": 56
    },
    {
     "cell_type": "markdown",
     "metadata": {},
     "source": [
      "\u958b\u59cb\u756b\u5716\n",
      "\u8a2d\u5b9a\u8981\u756b\u7684\u7684x,y\u6578\u64dalist...."
     ]
    },
    {
     "cell_type": "code",
     "collapsed": false,
     "input": [
      "plt.plot(x,f_t(x)) \n",
      "#\n",
      "#    # \u8a2d\u5b9a\u5716\u7684\u7bc4\u570d, \u4e0d\u8a2d\u7684\u8a71\uff0c\u7cfb\u7d71\u6703\u81ea\u884c\u6c7a\u5b9a\n",
      "plt.xlim(0,7) \n",
      "plt.ylim(-1,5)\n",
      "#    # \u7167\u9700\u8981\u5beb\u5165x \u8ef8\u548cy\u8ef8\u7684 label \u4ee5\u53catitle\n",
      "#\n",
      "plt.xlabel(\"x-axis\")   \n",
      "plt.ylabel(\"y-axis\")   \n",
      "plt.title(\"The Title\") \n",
      "#    # \u5728\u9019\u500b\u6307\u4ee4\u4e4b\u524d\uff0c\u90fd\u9084\u5728\u505a\u756b\u5716\u7684\u52d5\u4f5c \n",
      "#    # \u9019\u500b\u6307\u4ee4\u7b97\u662f \"\u79c0\u5716\" \n",
      "plt.show() "
     ],
     "language": "python",
     "metadata": {},
     "outputs": [
      {
       "metadata": {},
       "output_type": "display_data",
       "png": "[encoded data removed]",
       "text": [
        "<matplotlib.figure.Figure at 0x4c7b410>"
       ]
      }
     ],
     "prompt_number": 57
    },
    {
     "cell_type": "heading",
     "level": 2,
     "metadata": {},
     "source": [
      "Perturbation Solution"
     ]
    },
    {
     "cell_type": "code",
     "collapsed": false,
     "input": [
      "# Perturbation Solution\n",
      "u0 = Function('u0')\n",
      "u1 = Function('u1')\n",
      "u2 = Function('u2')\n",
      "ut = Function('ut')\n",
      "ut = u0(t)+eps*u1(t)+eps**2*u2(t)\n",
      "#Derivative(f(x),x,x) \n",
      "print ut \n",
      "#type(u0),type(ut)\n",
      "eqpert = diff(ut,t,t)-ut-eps*t*ut #Derivative(ut(t),t,t) #-ut(t)-eps*t*ut(t)\n",
      "print eqpert "
     ],
     "language": "python",
     "metadata": {},
     "outputs": [
      {
       "output_type": "stream",
       "stream": "stdout",
       "text": [
        "eps**2*u2(t) + eps*u1(t) + u0(t)\n",
        "-eps**2*u2(t) + eps**2*Derivative(u2(t), t, t) - eps*t*(eps**2*u2(t) + eps*u1(t) + u0(t)) - eps*u1(t) + eps*Derivative(u1(t), t, t) - u0(t) + Derivative(u0(t), t, t)\n"
       ]
      }
     ],
     "prompt_number": 62
    },
    {
     "cell_type": "markdown",
     "metadata": {},
     "source": [
      "To get the zeroth order perturbation equation we just substitute  epsilon = 0 into the governing equation and save the result as the variable eqp0:"
     ]
    },
    {
     "cell_type": "code",
     "collapsed": false,
     "input": [
      "eqp0 = eqpert.subs(eps,0)\n",
      "print \"leading term:\",eqp0"
     ],
     "language": "python",
     "metadata": {},
     "outputs": [
      {
       "output_type": "stream",
       "stream": "stdout",
       "text": [
        "leading term: -u0(t) + Derivative(u0(t), t, t)\n"
       ]
      }
     ],
     "prompt_number": 63
    },
    {
     "cell_type": "markdown",
     "metadata": {},
     "source": [
      "To get the first order (in  epsilon ) equation we can take the first derivative of eqpert, with respect to  epsilon , and substitute  epsilon = 0 into the result to give the first order perturbation equation, which we will save as a variable `epq1'."
     ]
    },
    {
     "cell_type": "code",
     "collapsed": false,
     "input": [
      "eqp1 = diff(eqpert,eps).subs(eps,0)\n",
      "print \"first order:\",eqp1"
     ],
     "language": "python",
     "metadata": {},
     "outputs": [
      {
       "output_type": "stream",
       "stream": "stdout",
       "text": [
        "leading term: -t*u0(t) - u1(t) + Derivative(u1(t), t, t)\n"
       ]
      }
     ],
     "prompt_number": 64
    },
    {
     "cell_type": "markdown",
     "metadata": {},
     "source": [
      "Now the beat roles on; to find the second order equation we take two derivatives and evaluate at  epsilon = 0 ; the factor of 1/2 is just because of the division by 2 factorial in the Maclaurin expansion."
     ]
    },
    {
     "cell_type": "code",
     "collapsed": false,
     "input": [
      "eqp2 = diff(eqpert,eps,eps).subs(eps,0)\n",
      "print \"Second order:\",eqp2"
     ],
     "language": "python",
     "metadata": {},
     "outputs": [
      {
       "output_type": "stream",
       "stream": "stdout",
       "text": [
        "Second order: -2*t*u1(t) - 2*u2(t) + 2*Derivative(u2(t), t, t)\n"
       ]
      }
     ],
     "prompt_number": 65
    },
    {
     "cell_type": "code",
     "collapsed": false,
     "input": [],
     "language": "python",
     "metadata": {},
     "outputs": []
    }
   ],
   "metadata": {}
  }
 ]
}