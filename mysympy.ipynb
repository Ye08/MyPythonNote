{
 "metadata": {
  "name": "",
  "signature": "sha256:5663568c8b323b5103250f02aed81fd080976e171b1da10aba145d1b2faea610"
 },
 "nbformat": 3,
 "nbformat_minor": 0,
 "worksheets": [
  {
   "cells": [
    {
     "cell_type": "code",
     "collapsed": false,
     "input": [],
     "language": "python",
     "metadata": {},
     "outputs": [],
     "prompt_number": 0
    },
    {
     "cell_type": "markdown",
     "metadata": {},
     "source": [
      "\u8f09\u5165\u9700\u8981\u7684..."
     ]
    },
    {
     "cell_type": "code",
     "collapsed": false,
     "input": [
      "import matplotlib.pyplot as plt\n",
      "import numpy as np\n",
      "%matplotlib inline"
     ],
     "language": "python",
     "metadata": {},
     "outputs": [],
     "prompt_number": 1
    },
    {
     "cell_type": "markdown",
     "metadata": {},
     "source": [
      "\u6e96\u5099\u6578\u64da ... \u5047\u8a2d\u6211\u8981\u756b\u4e00\u500bsin\u6ce2 \u5f9e0~180\u5ea6\n"
     ]
    },
    {
     "cell_type": "code",
     "collapsed": false,
     "input": [
      "NumP = 1000\n",
      "x = range(0,NumP+1)\n",
      "y = range(0,NumP+1)\n",
      "xa = 0.0\n",
      "xb = 10.0\n",
      "dx = (xb-xa)/float(NumP)"
     ],
     "language": "python",
     "metadata": {},
     "outputs": [],
     "prompt_number": 2
    },
    {
     "cell_type": "code",
     "collapsed": false,
     "input": [
      "for i in range(NumP+1):\n",
      "    x[i] = xa+dx*float(i)\n",
      "    #y[i]=sin(np.pi/180.0*x[i])\n",
      "    y[i]=sin(exp(x[i]))\n",
      "#y = np.sin(x * np.pi / 180.0)\n",
      "\n",
      "\n",
      "# \u958b\u59cb\u756b\u5716\n",
      "\n",
      "    # \u8a2d\u5b9a\u8981\u756b\u7684\u7684x,y\u6578\u64dalist....\n",
      "\n",
      "plt.plot(x,y) \n",
      "\n",
      "    # \u8a2d\u5b9a\u5716\u7684\u7bc4\u570d, \u4e0d\u8a2d\u7684\u8a71\uff0c\u7cfb\u7d71\u6703\u81ea\u884c\u6c7a\u5b9a\n",
      "plt.xlim(0,10)\n",
      "plt.ylim(-1.5,1.5)\n",
      "    # \u7167\u9700\u8981\u5beb\u5165x \u8ef8\u548cy\u8ef8\u7684 label \u4ee5\u53catitle\n",
      "\n",
      "plt.xlabel(\"x-axis\") \n",
      "plt.ylabel(\"y-axis\") \n",
      "plt.title(\"The Title\") \n",
      "\n",
      "\n",
      "    # \u5728\u9019\u500b\u6307\u4ee4\u4e4b\u524d\uff0c\u90fd\u9084\u5728\u505a\u756b\u5716\u7684\u52d5\u4f5c \n",
      "    # \u9019\u500b\u6307\u4ee4\u7b97\u662f \"\u79c0\u5716\" \n",
      "plt.show() \n",
      "\n",
      "\n",
      "    # \u5982\u679c\u8981\u5b58\u6210\u5716\u5f62\u6a94:\n",
      "    # \u628a pyplot.show() \u63db\u6210\u4e0b\u9762\u9019\u884c:\n",
      "\n",
      "#plt.savefig(\"filename.png\",dpi=300,format=\"png\") "
     ],
     "language": "python",
     "metadata": {},
     "outputs": [
      {
       "ename": "NameError",
       "evalue": "name 'sin' is not defined",
       "output_type": "pyerr",
       "traceback": [
        "\u001b[1;31m---------------------------------------------------------------------------\u001b[0m\n\u001b[1;31mNameError\u001b[0m                                 Traceback (most recent call last)",
        "\u001b[1;32m<ipython-input-3-2d06aa99d124>\u001b[0m in \u001b[0;36m<module>\u001b[1;34m()\u001b[0m\n\u001b[0;32m      2\u001b[0m     \u001b[0mx\u001b[0m\u001b[1;33m[\u001b[0m\u001b[0mi\u001b[0m\u001b[1;33m]\u001b[0m \u001b[1;33m=\u001b[0m \u001b[0mxa\u001b[0m\u001b[1;33m+\u001b[0m\u001b[0mdx\u001b[0m\u001b[1;33m*\u001b[0m\u001b[0mfloat\u001b[0m\u001b[1;33m(\u001b[0m\u001b[0mi\u001b[0m\u001b[1;33m)\u001b[0m\u001b[1;33m\u001b[0m\u001b[0m\n\u001b[0;32m      3\u001b[0m     \u001b[1;31m#y[i]=sin(np.pi/180.0*x[i])\u001b[0m\u001b[1;33m\u001b[0m\u001b[1;33m\u001b[0m\u001b[0m\n\u001b[1;32m----> 4\u001b[1;33m     \u001b[0my\u001b[0m\u001b[1;33m[\u001b[0m\u001b[0mi\u001b[0m\u001b[1;33m]\u001b[0m\u001b[1;33m=\u001b[0m\u001b[0msin\u001b[0m\u001b[1;33m(\u001b[0m\u001b[0mexp\u001b[0m\u001b[1;33m(\u001b[0m\u001b[0mx\u001b[0m\u001b[1;33m[\u001b[0m\u001b[0mi\u001b[0m\u001b[1;33m]\u001b[0m\u001b[1;33m)\u001b[0m\u001b[1;33m)\u001b[0m\u001b[1;33m\u001b[0m\u001b[0m\n\u001b[0m\u001b[0;32m      5\u001b[0m \u001b[1;31m#y = np.sin(x * np.pi / 180.0)\u001b[0m\u001b[1;33m\u001b[0m\u001b[1;33m\u001b[0m\u001b[0m\n\u001b[0;32m      6\u001b[0m \u001b[1;33m\u001b[0m\u001b[0m\n",
        "\u001b[1;31mNameError\u001b[0m: name 'sin' is not defined"
       ]
      }
     ],
     "prompt_number": 3
    },
    {
     "cell_type": "code",
     "collapsed": false,
     "input": [
      "from sympy import limit, Symbol, sin, oo\n",
      "x = Symbol('x')\n",
      "limit(sin(x)/x, x, 0)"
     ],
     "language": "python",
     "metadata": {},
     "outputs": []
    },
    {
     "cell_type": "code",
     "collapsed": false,
     "input": [
      " from sympy import integrate\n",
      " integrate(sin(x), x)"
     ],
     "language": "python",
     "metadata": {},
     "outputs": []
    },
    {
     "cell_type": "code",
     "collapsed": false,
     "input": [
      "from sympy import diff\n",
      "diff(sin(x), x)"
     ],
     "language": "python",
     "metadata": {},
     "outputs": []
    },
    {
     "cell_type": "code",
     "collapsed": false,
     "input": [
      "diff(sin(x), x,2)"
     ],
     "language": "python",
     "metadata": {},
     "outputs": []
    },
    {
     "cell_type": "code",
     "collapsed": false,
     "input": [
      "diff(sin(x), x,x)"
     ],
     "language": "python",
     "metadata": {},
     "outputs": []
    },
    {
     "cell_type": "code",
     "collapsed": false,
     "input": [],
     "language": "python",
     "metadata": {},
     "outputs": []
    }
   ],
   "metadata": {}
  }
 ]
}